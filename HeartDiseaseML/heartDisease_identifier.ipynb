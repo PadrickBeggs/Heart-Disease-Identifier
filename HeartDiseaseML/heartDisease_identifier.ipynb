{
 "cells": [
  {
   "cell_type": "markdown",
   "metadata": {},
   "source": [
    "## Portfolio Project 1 - Heart Disease Classifier\n",
    "\n",
    "Team: Derek Cheung, Padrick Beggs, Samantha Shimabukuro\n",
    "\n",
    "Description: \n",
    "- We attempt to determine the presence of heart disease using classical machine learning algorithms given presence of certain features. The dataset was found on the UCI Machine Learning Repository. A copy of the dataset and description can be found there."
   ]
  },
  {
   "cell_type": "code",
   "execution_count": 1,
   "metadata": {},
   "outputs": [],
   "source": [
    "# import libraries and data\n",
    "import pandas as pd\n",
    "import numpy as np\n",
    "import time\n",
    "import matplotlib.pyplot as plt\n",
    "import seaborn as sns\n",
    "from sklearn.linear_model import SGDClassifier\n",
    "from sklearn.naive_bayes import GaussianNB\n",
    "from sklearn.neighbors import KNeighborsClassifier\n",
    "from sklearn.svm import SVC\n",
    "from sklearn.tree import DecisionTreeClassifier\n",
    "from sklearn.preprocessing import StandardScaler, MinMaxScaler\n",
    "from sklearn.metrics import mean_squared_error, precision_score, accuracy_score\n",
    "from sklearn.model_selection import GridSearchCV\n",
    "from sklearn.ensemble import RandomForestClassifier, AdaBoostClassifier, BaggingClassifier"
   ]
  },
  {
   "cell_type": "code",
   "execution_count": 2,
   "metadata": {},
   "outputs": [],
   "source": [
    "df = pd.read_csv(\"heart.csv\")"
   ]
  },
  {
   "cell_type": "markdown",
   "metadata": {},
   "source": [
    "## Understanding Data"
   ]
  },
  {
   "cell_type": "code",
   "execution_count": 3,
   "metadata": {},
   "outputs": [],
   "source": [
    "df['age'] = df['age'].apply(lambda x: int(x))\n",
    "df['sex'] = df['sex'].apply(lambda x: int(x))\n",
    "df['cp'] = df['cp'].apply(lambda x: int(x))\n",
    "df['trestbps'] = df['trestbps'].apply(lambda x: int(x))\n",
    "df['chol'] = df['chol'].apply(lambda x: int(x))\n",
    "df['fbs'] = df['fbs'].apply(lambda x: int(x))\n",
    "df['restecg'] = df['restecg'].apply(lambda x: int(x))\n",
    "df['thalach'] = df['thalach'].apply(lambda x: int(x))\n",
    "df['exang'] = df['exang'].apply(lambda x: int(x))\n",
    "df['oldpeak'] = df['oldpeak'].apply(lambda x: float(x))\n",
    "df['slope'] = df['slope'].apply(lambda x: int(x))\n",
    "df['ca'] = df['ca'].apply(lambda x: int(x))\n",
    "df['thal'] = df['thal'].apply(lambda x: int(x))\n",
    "df['target'] = df['target'].apply(lambda x: int(x))"
   ]
  },
  {
   "cell_type": "code",
   "execution_count": 4,
   "metadata": {
    "scrolled": false
   },
   "outputs": [
    {
     "data": {
      "text/html": [
       "<div>\n",
       "<style scoped>\n",
       "    .dataframe tbody tr th:only-of-type {\n",
       "        vertical-align: middle;\n",
       "    }\n",
       "\n",
       "    .dataframe tbody tr th {\n",
       "        vertical-align: top;\n",
       "    }\n",
       "\n",
       "    .dataframe thead th {\n",
       "        text-align: right;\n",
       "    }\n",
       "</style>\n",
       "<table border=\"1\" class=\"dataframe\">\n",
       "  <thead>\n",
       "    <tr style=\"text-align: right;\">\n",
       "      <th></th>\n",
       "      <th>age</th>\n",
       "      <th>sex</th>\n",
       "      <th>cp</th>\n",
       "      <th>trestbps</th>\n",
       "      <th>chol</th>\n",
       "      <th>fbs</th>\n",
       "      <th>restecg</th>\n",
       "      <th>thalach</th>\n",
       "      <th>exang</th>\n",
       "      <th>oldpeak</th>\n",
       "      <th>slope</th>\n",
       "      <th>ca</th>\n",
       "      <th>thal</th>\n",
       "      <th>target</th>\n",
       "    </tr>\n",
       "  </thead>\n",
       "  <tbody>\n",
       "    <tr>\n",
       "      <th>0</th>\n",
       "      <td>63</td>\n",
       "      <td>1</td>\n",
       "      <td>3</td>\n",
       "      <td>145</td>\n",
       "      <td>233</td>\n",
       "      <td>1</td>\n",
       "      <td>0</td>\n",
       "      <td>150</td>\n",
       "      <td>0</td>\n",
       "      <td>2.3</td>\n",
       "      <td>0</td>\n",
       "      <td>0</td>\n",
       "      <td>1</td>\n",
       "      <td>1</td>\n",
       "    </tr>\n",
       "    <tr>\n",
       "      <th>1</th>\n",
       "      <td>37</td>\n",
       "      <td>1</td>\n",
       "      <td>2</td>\n",
       "      <td>130</td>\n",
       "      <td>250</td>\n",
       "      <td>0</td>\n",
       "      <td>1</td>\n",
       "      <td>187</td>\n",
       "      <td>0</td>\n",
       "      <td>3.5</td>\n",
       "      <td>0</td>\n",
       "      <td>0</td>\n",
       "      <td>2</td>\n",
       "      <td>1</td>\n",
       "    </tr>\n",
       "    <tr>\n",
       "      <th>2</th>\n",
       "      <td>41</td>\n",
       "      <td>0</td>\n",
       "      <td>1</td>\n",
       "      <td>130</td>\n",
       "      <td>204</td>\n",
       "      <td>0</td>\n",
       "      <td>0</td>\n",
       "      <td>172</td>\n",
       "      <td>0</td>\n",
       "      <td>1.4</td>\n",
       "      <td>2</td>\n",
       "      <td>0</td>\n",
       "      <td>2</td>\n",
       "      <td>1</td>\n",
       "    </tr>\n",
       "    <tr>\n",
       "      <th>3</th>\n",
       "      <td>56</td>\n",
       "      <td>1</td>\n",
       "      <td>1</td>\n",
       "      <td>120</td>\n",
       "      <td>236</td>\n",
       "      <td>0</td>\n",
       "      <td>1</td>\n",
       "      <td>178</td>\n",
       "      <td>0</td>\n",
       "      <td>0.8</td>\n",
       "      <td>2</td>\n",
       "      <td>0</td>\n",
       "      <td>2</td>\n",
       "      <td>1</td>\n",
       "    </tr>\n",
       "    <tr>\n",
       "      <th>4</th>\n",
       "      <td>57</td>\n",
       "      <td>0</td>\n",
       "      <td>0</td>\n",
       "      <td>120</td>\n",
       "      <td>354</td>\n",
       "      <td>0</td>\n",
       "      <td>1</td>\n",
       "      <td>163</td>\n",
       "      <td>1</td>\n",
       "      <td>0.6</td>\n",
       "      <td>2</td>\n",
       "      <td>0</td>\n",
       "      <td>2</td>\n",
       "      <td>1</td>\n",
       "    </tr>\n",
       "  </tbody>\n",
       "</table>\n",
       "</div>"
      ],
      "text/plain": [
       "   age  sex  cp  trestbps  chol  fbs  restecg  thalach  exang  oldpeak  slope  \\\n",
       "0   63    1   3       145   233    1        0      150      0      2.3      0   \n",
       "1   37    1   2       130   250    0        1      187      0      3.5      0   \n",
       "2   41    0   1       130   204    0        0      172      0      1.4      2   \n",
       "3   56    1   1       120   236    0        1      178      0      0.8      2   \n",
       "4   57    0   0       120   354    0        1      163      1      0.6      2   \n",
       "\n",
       "   ca  thal  target  \n",
       "0   0     1       1  \n",
       "1   0     2       1  \n",
       "2   0     2       1  \n",
       "3   0     2       1  \n",
       "4   0     2       1  "
      ]
     },
     "execution_count": 4,
     "metadata": {},
     "output_type": "execute_result"
    }
   ],
   "source": [
    "df.head()"
   ]
  },
  {
   "cell_type": "code",
   "execution_count": 5,
   "metadata": {
    "scrolled": true
   },
   "outputs": [
    {
     "data": {
      "text/html": [
       "<div>\n",
       "<style scoped>\n",
       "    .dataframe tbody tr th:only-of-type {\n",
       "        vertical-align: middle;\n",
       "    }\n",
       "\n",
       "    .dataframe tbody tr th {\n",
       "        vertical-align: top;\n",
       "    }\n",
       "\n",
       "    .dataframe thead th {\n",
       "        text-align: right;\n",
       "    }\n",
       "</style>\n",
       "<table border=\"1\" class=\"dataframe\">\n",
       "  <thead>\n",
       "    <tr style=\"text-align: right;\">\n",
       "      <th></th>\n",
       "      <th>age</th>\n",
       "      <th>sex</th>\n",
       "      <th>cp</th>\n",
       "      <th>trestbps</th>\n",
       "      <th>chol</th>\n",
       "      <th>fbs</th>\n",
       "      <th>restecg</th>\n",
       "      <th>thalach</th>\n",
       "      <th>exang</th>\n",
       "      <th>oldpeak</th>\n",
       "      <th>slope</th>\n",
       "      <th>ca</th>\n",
       "      <th>thal</th>\n",
       "      <th>target</th>\n",
       "    </tr>\n",
       "  </thead>\n",
       "  <tbody>\n",
       "    <tr>\n",
       "      <th>count</th>\n",
       "      <td>303.000000</td>\n",
       "      <td>303.000000</td>\n",
       "      <td>303.000000</td>\n",
       "      <td>303.000000</td>\n",
       "      <td>303.000000</td>\n",
       "      <td>303.000000</td>\n",
       "      <td>303.000000</td>\n",
       "      <td>303.000000</td>\n",
       "      <td>303.000000</td>\n",
       "      <td>303.000000</td>\n",
       "      <td>303.000000</td>\n",
       "      <td>303.000000</td>\n",
       "      <td>303.000000</td>\n",
       "      <td>303.000000</td>\n",
       "    </tr>\n",
       "    <tr>\n",
       "      <th>mean</th>\n",
       "      <td>54.366337</td>\n",
       "      <td>0.683168</td>\n",
       "      <td>0.966997</td>\n",
       "      <td>131.623762</td>\n",
       "      <td>246.264026</td>\n",
       "      <td>0.148515</td>\n",
       "      <td>0.528053</td>\n",
       "      <td>149.646865</td>\n",
       "      <td>0.326733</td>\n",
       "      <td>1.039604</td>\n",
       "      <td>1.399340</td>\n",
       "      <td>0.729373</td>\n",
       "      <td>2.313531</td>\n",
       "      <td>0.544554</td>\n",
       "    </tr>\n",
       "    <tr>\n",
       "      <th>std</th>\n",
       "      <td>9.082101</td>\n",
       "      <td>0.466011</td>\n",
       "      <td>1.032052</td>\n",
       "      <td>17.538143</td>\n",
       "      <td>51.830751</td>\n",
       "      <td>0.356198</td>\n",
       "      <td>0.525860</td>\n",
       "      <td>22.905161</td>\n",
       "      <td>0.469794</td>\n",
       "      <td>1.161075</td>\n",
       "      <td>0.616226</td>\n",
       "      <td>1.022606</td>\n",
       "      <td>0.612277</td>\n",
       "      <td>0.498835</td>\n",
       "    </tr>\n",
       "    <tr>\n",
       "      <th>min</th>\n",
       "      <td>29.000000</td>\n",
       "      <td>0.000000</td>\n",
       "      <td>0.000000</td>\n",
       "      <td>94.000000</td>\n",
       "      <td>126.000000</td>\n",
       "      <td>0.000000</td>\n",
       "      <td>0.000000</td>\n",
       "      <td>71.000000</td>\n",
       "      <td>0.000000</td>\n",
       "      <td>0.000000</td>\n",
       "      <td>0.000000</td>\n",
       "      <td>0.000000</td>\n",
       "      <td>0.000000</td>\n",
       "      <td>0.000000</td>\n",
       "    </tr>\n",
       "    <tr>\n",
       "      <th>25%</th>\n",
       "      <td>47.500000</td>\n",
       "      <td>0.000000</td>\n",
       "      <td>0.000000</td>\n",
       "      <td>120.000000</td>\n",
       "      <td>211.000000</td>\n",
       "      <td>0.000000</td>\n",
       "      <td>0.000000</td>\n",
       "      <td>133.500000</td>\n",
       "      <td>0.000000</td>\n",
       "      <td>0.000000</td>\n",
       "      <td>1.000000</td>\n",
       "      <td>0.000000</td>\n",
       "      <td>2.000000</td>\n",
       "      <td>0.000000</td>\n",
       "    </tr>\n",
       "    <tr>\n",
       "      <th>50%</th>\n",
       "      <td>55.000000</td>\n",
       "      <td>1.000000</td>\n",
       "      <td>1.000000</td>\n",
       "      <td>130.000000</td>\n",
       "      <td>240.000000</td>\n",
       "      <td>0.000000</td>\n",
       "      <td>1.000000</td>\n",
       "      <td>153.000000</td>\n",
       "      <td>0.000000</td>\n",
       "      <td>0.800000</td>\n",
       "      <td>1.000000</td>\n",
       "      <td>0.000000</td>\n",
       "      <td>2.000000</td>\n",
       "      <td>1.000000</td>\n",
       "    </tr>\n",
       "    <tr>\n",
       "      <th>75%</th>\n",
       "      <td>61.000000</td>\n",
       "      <td>1.000000</td>\n",
       "      <td>2.000000</td>\n",
       "      <td>140.000000</td>\n",
       "      <td>274.500000</td>\n",
       "      <td>0.000000</td>\n",
       "      <td>1.000000</td>\n",
       "      <td>166.000000</td>\n",
       "      <td>1.000000</td>\n",
       "      <td>1.600000</td>\n",
       "      <td>2.000000</td>\n",
       "      <td>1.000000</td>\n",
       "      <td>3.000000</td>\n",
       "      <td>1.000000</td>\n",
       "    </tr>\n",
       "    <tr>\n",
       "      <th>max</th>\n",
       "      <td>77.000000</td>\n",
       "      <td>1.000000</td>\n",
       "      <td>3.000000</td>\n",
       "      <td>200.000000</td>\n",
       "      <td>564.000000</td>\n",
       "      <td>1.000000</td>\n",
       "      <td>2.000000</td>\n",
       "      <td>202.000000</td>\n",
       "      <td>1.000000</td>\n",
       "      <td>6.200000</td>\n",
       "      <td>2.000000</td>\n",
       "      <td>4.000000</td>\n",
       "      <td>3.000000</td>\n",
       "      <td>1.000000</td>\n",
       "    </tr>\n",
       "  </tbody>\n",
       "</table>\n",
       "</div>"
      ],
      "text/plain": [
       "              age         sex          cp    trestbps        chol         fbs  \\\n",
       "count  303.000000  303.000000  303.000000  303.000000  303.000000  303.000000   \n",
       "mean    54.366337    0.683168    0.966997  131.623762  246.264026    0.148515   \n",
       "std      9.082101    0.466011    1.032052   17.538143   51.830751    0.356198   \n",
       "min     29.000000    0.000000    0.000000   94.000000  126.000000    0.000000   \n",
       "25%     47.500000    0.000000    0.000000  120.000000  211.000000    0.000000   \n",
       "50%     55.000000    1.000000    1.000000  130.000000  240.000000    0.000000   \n",
       "75%     61.000000    1.000000    2.000000  140.000000  274.500000    0.000000   \n",
       "max     77.000000    1.000000    3.000000  200.000000  564.000000    1.000000   \n",
       "\n",
       "          restecg     thalach       exang     oldpeak       slope          ca  \\\n",
       "count  303.000000  303.000000  303.000000  303.000000  303.000000  303.000000   \n",
       "mean     0.528053  149.646865    0.326733    1.039604    1.399340    0.729373   \n",
       "std      0.525860   22.905161    0.469794    1.161075    0.616226    1.022606   \n",
       "min      0.000000   71.000000    0.000000    0.000000    0.000000    0.000000   \n",
       "25%      0.000000  133.500000    0.000000    0.000000    1.000000    0.000000   \n",
       "50%      1.000000  153.000000    0.000000    0.800000    1.000000    0.000000   \n",
       "75%      1.000000  166.000000    1.000000    1.600000    2.000000    1.000000   \n",
       "max      2.000000  202.000000    1.000000    6.200000    2.000000    4.000000   \n",
       "\n",
       "             thal      target  \n",
       "count  303.000000  303.000000  \n",
       "mean     2.313531    0.544554  \n",
       "std      0.612277    0.498835  \n",
       "min      0.000000    0.000000  \n",
       "25%      2.000000    0.000000  \n",
       "50%      2.000000    1.000000  \n",
       "75%      3.000000    1.000000  \n",
       "max      3.000000    1.000000  "
      ]
     },
     "execution_count": 5,
     "metadata": {},
     "output_type": "execute_result"
    }
   ],
   "source": [
    "df.describe()"
   ]
  },
  {
   "cell_type": "markdown",
   "metadata": {},
   "source": [
    "## Data Exploration"
   ]
  },
  {
   "cell_type": "code",
   "execution_count": 6,
   "metadata": {
    "scrolled": false
   },
   "outputs": [
    {
     "data": {
      "text/html": [
       "<div>\n",
       "<style scoped>\n",
       "    .dataframe tbody tr th:only-of-type {\n",
       "        vertical-align: middle;\n",
       "    }\n",
       "\n",
       "    .dataframe tbody tr th {\n",
       "        vertical-align: top;\n",
       "    }\n",
       "\n",
       "    .dataframe thead th {\n",
       "        text-align: right;\n",
       "    }\n",
       "</style>\n",
       "<table border=\"1\" class=\"dataframe\">\n",
       "  <thead>\n",
       "    <tr style=\"text-align: right;\">\n",
       "      <th></th>\n",
       "      <th>target</th>\n",
       "    </tr>\n",
       "  </thead>\n",
       "  <tbody>\n",
       "    <tr>\n",
       "      <th>age</th>\n",
       "      <td>-0.225439</td>\n",
       "    </tr>\n",
       "    <tr>\n",
       "      <th>sex</th>\n",
       "      <td>-0.280937</td>\n",
       "    </tr>\n",
       "    <tr>\n",
       "      <th>cp</th>\n",
       "      <td>0.433798</td>\n",
       "    </tr>\n",
       "    <tr>\n",
       "      <th>trestbps</th>\n",
       "      <td>-0.144931</td>\n",
       "    </tr>\n",
       "    <tr>\n",
       "      <th>chol</th>\n",
       "      <td>-0.085239</td>\n",
       "    </tr>\n",
       "    <tr>\n",
       "      <th>fbs</th>\n",
       "      <td>-0.028046</td>\n",
       "    </tr>\n",
       "    <tr>\n",
       "      <th>restecg</th>\n",
       "      <td>0.137230</td>\n",
       "    </tr>\n",
       "    <tr>\n",
       "      <th>thalach</th>\n",
       "      <td>0.421741</td>\n",
       "    </tr>\n",
       "    <tr>\n",
       "      <th>exang</th>\n",
       "      <td>-0.436757</td>\n",
       "    </tr>\n",
       "    <tr>\n",
       "      <th>oldpeak</th>\n",
       "      <td>-0.430696</td>\n",
       "    </tr>\n",
       "    <tr>\n",
       "      <th>slope</th>\n",
       "      <td>0.345877</td>\n",
       "    </tr>\n",
       "    <tr>\n",
       "      <th>ca</th>\n",
       "      <td>-0.391724</td>\n",
       "    </tr>\n",
       "    <tr>\n",
       "      <th>thal</th>\n",
       "      <td>-0.344029</td>\n",
       "    </tr>\n",
       "    <tr>\n",
       "      <th>target</th>\n",
       "      <td>1.000000</td>\n",
       "    </tr>\n",
       "  </tbody>\n",
       "</table>\n",
       "</div>"
      ],
      "text/plain": [
       "            target\n",
       "age      -0.225439\n",
       "sex      -0.280937\n",
       "cp        0.433798\n",
       "trestbps -0.144931\n",
       "chol     -0.085239\n",
       "fbs      -0.028046\n",
       "restecg   0.137230\n",
       "thalach   0.421741\n",
       "exang    -0.436757\n",
       "oldpeak  -0.430696\n",
       "slope     0.345877\n",
       "ca       -0.391724\n",
       "thal     -0.344029\n",
       "target    1.000000"
      ]
     },
     "execution_count": 6,
     "metadata": {},
     "output_type": "execute_result"
    }
   ],
   "source": [
    "#linearity check\n",
    "df.corr()[['target']]"
   ]
  },
  {
   "cell_type": "markdown",
   "metadata": {},
   "source": [
    "there does not seem to be any feature that has an immediate linear relation with target, so classifer algorithms will be used over regressors"
   ]
  },
  {
   "cell_type": "code",
   "execution_count": 7,
   "metadata": {},
   "outputs": [
    {
     "data": {
      "image/png": "[encoded data removed]",
      "text/plain": [
       "<Figure size 432x288 with 1 Axes>"
      ]
     },
     "metadata": {},
     "output_type": "display_data"
    }
   ],
   "source": [
    "#frequency of gender\n",
    "labels=\"male\",\"female\"\n",
    "sizes=[sum(df[\"sex\"]==1),sum(df[\"sex\"]==0)]\n",
    "colors=[\"blue\",\"pink\"]\n",
    "plt.pie(sizes, labels=labels, colors=colors, autopct='%1.1f%%',startangle=90)\n",
    "plt.axis('equal')\n",
    "plt.show()"
   ]
  },
  {
   "cell_type": "markdown",
   "metadata": {},
   "source": [
    "there are more males than females in this dataset"
   ]
  },
  {
   "cell_type": "code",
   "execution_count": 8,
   "metadata": {
    "scrolled": true
   },
   "outputs": [
    {
     "data": {
      "image/png": "[encoded data removed]",
      "text/plain": [
       "<Figure size 432x288 with 1 Axes>"
      ]
     },
     "metadata": {},
     "output_type": "display_data"
    }
   ],
   "source": [
    "#disease frequency\n",
    "labels=\"disease\",\"no disease\"\n",
    "sizes=[sum(df[\"target\"]==0),sum(df[\"target\"]==1)]\n",
    "colors=[\"red\",\"green\"]\n",
    "plt.pie(sizes, labels=labels, colors=colors, autopct='%1.1f%%',startangle=90)\n",
    "plt.axis('equal')\n",
    "plt.show()"
   ]
  },
  {
   "cell_type": "markdown",
   "metadata": {},
   "source": [
    "most individuals in this dataset do no have heart disease"
   ]
  },
  {
   "cell_type": "code",
   "execution_count": 9,
   "metadata": {
    "scrolled": true
   },
   "outputs": [
    {
     "data": {
      "image/png": "[encoded data removed]",
      "text/plain": [
       "<Figure size 432x288 with 1 Axes>"
      ]
     },
     "metadata": {},
     "output_type": "display_data"
    }
   ],
   "source": [
    "#pain type frequency\n",
    "labels=\"typical angina\",\"atypical angina\", \"nonanginal pain\", \"asymptomatic\"\n",
    "sizes=[sum(df['cp']==1),sum(df['cp']==2),sum(df['cp']==3),sum(df['cp']==4)]\n",
    "colors=[\"yellow\",\"green\",\"blue\",\"black\"]\n",
    "plt.pie(sizes, labels=labels, colors=colors, autopct='%1.1f%%',startangle=90)\n",
    "plt.axis('equal')\n",
    "plt.show()"
   ]
  },
  {
   "cell_type": "markdown",
   "metadata": {},
   "source": [
    "most individuals in this dataset experience atypical angina chest pain, may be interesting to explore the relationship between type of pain and likeliness of heart disease presence"
   ]
  },
  {
   "cell_type": "code",
   "execution_count": 10,
   "metadata": {},
   "outputs": [],
   "source": [
    "#bar plot function\n",
    "def targeted(variable):\n",
    "    disease=df[df[\"target\"]==0][variable].value_counts()/len(df[\"target\"]==0)\n",
    "    no_disease=df[df[\"target\"]==1][variable].value_counts()/len(df[\"target\"]==1)\n",
    "    data=pd.DataFrame([disease,no_disease])\n",
    "    data.index=[\"Disease\",\"No Disease\"]\n",
    "    data.plot(kind=\"bar\",stacked=False,title=\"Percentage\")\n",
    "    return data.head()"
   ]
  },
  {
   "cell_type": "code",
   "execution_count": 11,
   "metadata": {},
   "outputs": [
    {
     "data": {
      "text/html": [
       "<div>\n",
       "<style scoped>\n",
       "    .dataframe tbody tr th:only-of-type {\n",
       "        vertical-align: middle;\n",
       "    }\n",
       "\n",
       "    .dataframe tbody tr th {\n",
       "        vertical-align: top;\n",
       "    }\n",
       "\n",
       "    .dataframe thead th {\n",
       "        text-align: right;\n",
       "    }\n",
       "</style>\n",
       "<table border=\"1\" class=\"dataframe\">\n",
       "  <thead>\n",
       "    <tr style=\"text-align: right;\">\n",
       "      <th></th>\n",
       "      <th>1</th>\n",
       "      <th>0</th>\n",
       "    </tr>\n",
       "  </thead>\n",
       "  <tbody>\n",
       "    <tr>\n",
       "      <th>Disease</th>\n",
       "      <td>0.376238</td>\n",
       "      <td>0.079208</td>\n",
       "    </tr>\n",
       "    <tr>\n",
       "      <th>No Disease</th>\n",
       "      <td>0.306931</td>\n",
       "      <td>0.237624</td>\n",
       "    </tr>\n",
       "  </tbody>\n",
       "</table>\n",
       "</div>"
      ],
      "text/plain": [
       "                   1         0\n",
       "Disease     0.376238  0.079208\n",
       "No Disease  0.306931  0.237624"
      ]
     },
     "execution_count": 11,
     "metadata": {},
     "output_type": "execute_result"
    },
    {
     "data": {
      "image/png": "[encoded data removed]",
      "text/plain": [
       "<Figure size 432x288 with 1 Axes>"
      ]
     },
     "metadata": {
      "needs_background": "light"
     },
     "output_type": "display_data"
    }
   ],
   "source": [
    "#gender and heart disease\n",
    "targeted('sex')"
   ]
  },
  {
   "cell_type": "markdown",
   "metadata": {},
   "source": [
    "most males in the dataset have heart disease, whereas most females in dataset do not have heart disease"
   ]
  },
  {
   "cell_type": "code",
   "execution_count": 12,
   "metadata": {
    "scrolled": false
   },
   "outputs": [
    {
     "data": {
      "text/html": [
       "<div>\n",
       "<style scoped>\n",
       "    .dataframe tbody tr th:only-of-type {\n",
       "        vertical-align: middle;\n",
       "    }\n",
       "\n",
       "    .dataframe tbody tr th {\n",
       "        vertical-align: top;\n",
       "    }\n",
       "\n",
       "    .dataframe thead th {\n",
       "        text-align: right;\n",
       "    }\n",
       "</style>\n",
       "<table border=\"1\" class=\"dataframe\">\n",
       "  <thead>\n",
       "    <tr style=\"text-align: right;\">\n",
       "      <th></th>\n",
       "      <th>0</th>\n",
       "      <th>1</th>\n",
       "      <th>2</th>\n",
       "      <th>3</th>\n",
       "    </tr>\n",
       "  </thead>\n",
       "  <tbody>\n",
       "    <tr>\n",
       "      <th>Disease</th>\n",
       "      <td>0.343234</td>\n",
       "      <td>0.029703</td>\n",
       "      <td>0.059406</td>\n",
       "      <td>0.023102</td>\n",
       "    </tr>\n",
       "    <tr>\n",
       "      <th>No Disease</th>\n",
       "      <td>0.128713</td>\n",
       "      <td>0.135314</td>\n",
       "      <td>0.227723</td>\n",
       "      <td>0.052805</td>\n",
       "    </tr>\n",
       "  </tbody>\n",
       "</table>\n",
       "</div>"
      ],
      "text/plain": [
       "                   0         1         2         3\n",
       "Disease     0.343234  0.029703  0.059406  0.023102\n",
       "No Disease  0.128713  0.135314  0.227723  0.052805"
      ]
     },
     "execution_count": 12,
     "metadata": {},
     "output_type": "execute_result"
    },
    {
     "data": {
      "image/png": "[encoded data removed]",
      "text/plain": [
       "<Figure size 432x288 with 1 Axes>"
      ]
     },
     "metadata": {
      "needs_background": "light"
     },
     "output_type": "display_data"
    }
   ],
   "source": [
    "#chest pain and heart disease\n",
    "targeted('cp')"
   ]
  },
  {
   "cell_type": "markdown",
   "metadata": {},
   "source": [
    "most indiviuals with heart disease experienced chest pain of type typical angina"
   ]
  },
  {
   "cell_type": "code",
   "execution_count": 13,
   "metadata": {
    "scrolled": false
   },
   "outputs": [
    {
     "data": {
      "text/html": [
       "<div>\n",
       "<style scoped>\n",
       "    .dataframe tbody tr th:only-of-type {\n",
       "        vertical-align: middle;\n",
       "    }\n",
       "\n",
       "    .dataframe tbody tr th {\n",
       "        vertical-align: top;\n",
       "    }\n",
       "\n",
       "    .dataframe thead th {\n",
       "        text-align: right;\n",
       "    }\n",
       "</style>\n",
       "<table border=\"1\" class=\"dataframe\">\n",
       "  <thead>\n",
       "    <tr style=\"text-align: right;\">\n",
       "      <th></th>\n",
       "      <th>0</th>\n",
       "      <th>1</th>\n",
       "    </tr>\n",
       "  </thead>\n",
       "  <tbody>\n",
       "    <tr>\n",
       "      <th>Disease</th>\n",
       "      <td>0.382838</td>\n",
       "      <td>0.072607</td>\n",
       "    </tr>\n",
       "    <tr>\n",
       "      <th>No Disease</th>\n",
       "      <td>0.468647</td>\n",
       "      <td>0.075908</td>\n",
       "    </tr>\n",
       "  </tbody>\n",
       "</table>\n",
       "</div>"
      ],
      "text/plain": [
       "                   0         1\n",
       "Disease     0.382838  0.072607\n",
       "No Disease  0.468647  0.075908"
      ]
     },
     "execution_count": 13,
     "metadata": {},
     "output_type": "execute_result"
    },
    {
     "data": {
      "image/png": "[encoded data removed]",
      "text/plain": [
       "<Figure size 432x288 with 1 Axes>"
      ]
     },
     "metadata": {
      "needs_background": "light"
     },
     "output_type": "display_data"
    }
   ],
   "source": [
    "#fasted blood sugar and heart disease\n",
    "targeted('fbs')"
   ]
  },
  {
   "cell_type": "markdown",
   "metadata": {},
   "source": [
    "fasting blood sugar does not seem to be super significant in determining presence of heart disease"
   ]
  },
  {
   "cell_type": "code",
   "execution_count": 14,
   "metadata": {
    "scrolled": false
   },
   "outputs": [
    {
     "data": {
      "text/html": [
       "<div>\n",
       "<style scoped>\n",
       "    .dataframe tbody tr th:only-of-type {\n",
       "        vertical-align: middle;\n",
       "    }\n",
       "\n",
       "    .dataframe tbody tr th {\n",
       "        vertical-align: top;\n",
       "    }\n",
       "\n",
       "    .dataframe thead th {\n",
       "        text-align: right;\n",
       "    }\n",
       "</style>\n",
       "<table border=\"1\" class=\"dataframe\">\n",
       "  <thead>\n",
       "    <tr style=\"text-align: right;\">\n",
       "      <th></th>\n",
       "      <th>0</th>\n",
       "      <th>1</th>\n",
       "      <th>2</th>\n",
       "    </tr>\n",
       "  </thead>\n",
       "  <tbody>\n",
       "    <tr>\n",
       "      <th>Disease</th>\n",
       "      <td>0.260726</td>\n",
       "      <td>0.184818</td>\n",
       "      <td>0.009901</td>\n",
       "    </tr>\n",
       "    <tr>\n",
       "      <th>No Disease</th>\n",
       "      <td>0.224422</td>\n",
       "      <td>0.316832</td>\n",
       "      <td>0.003300</td>\n",
       "    </tr>\n",
       "  </tbody>\n",
       "</table>\n",
       "</div>"
      ],
      "text/plain": [
       "                   0         1         2\n",
       "Disease     0.260726  0.184818  0.009901\n",
       "No Disease  0.224422  0.316832  0.003300"
      ]
     },
     "execution_count": 14,
     "metadata": {},
     "output_type": "execute_result"
    },
    {
     "data": {
      "image/png": "[encoded data removed]",
      "text/plain": [
       "<Figure size 432x288 with 1 Axes>"
      ]
     },
     "metadata": {
      "needs_background": "light"
     },
     "output_type": "display_data"
    }
   ],
   "source": [
    "#resting ecg and heart disease\n",
    "targeted('restecg')"
   ]
  },
  {
   "cell_type": "markdown",
   "metadata": {},
   "source": [
    "restecg does not seem to be super significant in determining presence of heart disease"
   ]
  },
  {
   "cell_type": "code",
   "execution_count": 15,
   "metadata": {
    "scrolled": false
   },
   "outputs": [
    {
     "data": {
      "text/html": [
       "<div>\n",
       "<style scoped>\n",
       "    .dataframe tbody tr th:only-of-type {\n",
       "        vertical-align: middle;\n",
       "    }\n",
       "\n",
       "    .dataframe tbody tr th {\n",
       "        vertical-align: top;\n",
       "    }\n",
       "\n",
       "    .dataframe thead th {\n",
       "        text-align: right;\n",
       "    }\n",
       "</style>\n",
       "<table border=\"1\" class=\"dataframe\">\n",
       "  <thead>\n",
       "    <tr style=\"text-align: right;\">\n",
       "      <th></th>\n",
       "      <th>0</th>\n",
       "      <th>1</th>\n",
       "    </tr>\n",
       "  </thead>\n",
       "  <tbody>\n",
       "    <tr>\n",
       "      <th>Disease</th>\n",
       "      <td>0.204620</td>\n",
       "      <td>0.250825</td>\n",
       "    </tr>\n",
       "    <tr>\n",
       "      <th>No Disease</th>\n",
       "      <td>0.468647</td>\n",
       "      <td>0.075908</td>\n",
       "    </tr>\n",
       "  </tbody>\n",
       "</table>\n",
       "</div>"
      ],
      "text/plain": [
       "                   0         1\n",
       "Disease     0.204620  0.250825\n",
       "No Disease  0.468647  0.075908"
      ]
     },
     "execution_count": 15,
     "metadata": {},
     "output_type": "execute_result"
    },
    {
     "data": {
      "image/png": "[encoded data removed]",
      "text/plain": [
       "<Figure size 432x288 with 1 Axes>"
      ]
     },
     "metadata": {
      "needs_background": "light"
     },
     "output_type": "display_data"
    }
   ],
   "source": [
    "#exercise induced angina and heart disease\n",
    "targeted('exang')"
   ]
  },
  {
   "cell_type": "markdown",
   "metadata": {},
   "source": [
    "exercise induced angina does not seem to be a significant indicator of heart disease"
   ]
  },
  {
   "cell_type": "code",
   "execution_count": 16,
   "metadata": {
    "scrolled": false
   },
   "outputs": [
    {
     "data": {
      "text/html": [
       "<div>\n",
       "<style scoped>\n",
       "    .dataframe tbody tr th:only-of-type {\n",
       "        vertical-align: middle;\n",
       "    }\n",
       "\n",
       "    .dataframe tbody tr th {\n",
       "        vertical-align: top;\n",
       "    }\n",
       "\n",
       "    .dataframe thead th {\n",
       "        text-align: right;\n",
       "    }\n",
       "</style>\n",
       "<table border=\"1\" class=\"dataframe\">\n",
       "  <thead>\n",
       "    <tr style=\"text-align: right;\">\n",
       "      <th></th>\n",
       "      <th>0</th>\n",
       "      <th>1</th>\n",
       "      <th>2</th>\n",
       "    </tr>\n",
       "  </thead>\n",
       "  <tbody>\n",
       "    <tr>\n",
       "      <th>Disease</th>\n",
       "      <td>0.039604</td>\n",
       "      <td>0.300330</td>\n",
       "      <td>0.115512</td>\n",
       "    </tr>\n",
       "    <tr>\n",
       "      <th>No Disease</th>\n",
       "      <td>0.029703</td>\n",
       "      <td>0.161716</td>\n",
       "      <td>0.353135</td>\n",
       "    </tr>\n",
       "  </tbody>\n",
       "</table>\n",
       "</div>"
      ],
      "text/plain": [
       "                   0         1         2\n",
       "Disease     0.039604  0.300330  0.115512\n",
       "No Disease  0.029703  0.161716  0.353135"
      ]
     },
     "execution_count": 16,
     "metadata": {},
     "output_type": "execute_result"
    },
    {
     "data": {
      "image/png": "[encoded data removed]",
      "text/plain": [
       "<Figure size 432x288 with 1 Axes>"
      ]
     },
     "metadata": {
      "needs_background": "light"
     },
     "output_type": "display_data"
    }
   ],
   "source": [
    "#slope and heart disease\n",
    "targeted('slope')"
   ]
  },
  {
   "cell_type": "markdown",
   "metadata": {},
   "source": [
    "a flat slope seems to be a good indicator of heart disease"
   ]
  },
  {
   "cell_type": "code",
   "execution_count": 17,
   "metadata": {},
   "outputs": [
    {
     "data": {
      "text/html": [
       "<div>\n",
       "<style scoped>\n",
       "    .dataframe tbody tr th:only-of-type {\n",
       "        vertical-align: middle;\n",
       "    }\n",
       "\n",
       "    .dataframe tbody tr th {\n",
       "        vertical-align: top;\n",
       "    }\n",
       "\n",
       "    .dataframe thead th {\n",
       "        text-align: right;\n",
       "    }\n",
       "</style>\n",
       "<table border=\"1\" class=\"dataframe\">\n",
       "  <thead>\n",
       "    <tr style=\"text-align: right;\">\n",
       "      <th></th>\n",
       "      <th>0</th>\n",
       "      <th>1</th>\n",
       "      <th>2</th>\n",
       "      <th>3</th>\n",
       "    </tr>\n",
       "  </thead>\n",
       "  <tbody>\n",
       "    <tr>\n",
       "      <th>Disease</th>\n",
       "      <td>0.0033</td>\n",
       "      <td>0.039604</td>\n",
       "      <td>0.118812</td>\n",
       "      <td>0.293729</td>\n",
       "    </tr>\n",
       "    <tr>\n",
       "      <th>No Disease</th>\n",
       "      <td>0.0033</td>\n",
       "      <td>0.019802</td>\n",
       "      <td>0.429043</td>\n",
       "      <td>0.092409</td>\n",
       "    </tr>\n",
       "  </tbody>\n",
       "</table>\n",
       "</div>"
      ],
      "text/plain": [
       "                 0         1         2         3\n",
       "Disease     0.0033  0.039604  0.118812  0.293729\n",
       "No Disease  0.0033  0.019802  0.429043  0.092409"
      ]
     },
     "execution_count": 17,
     "metadata": {},
     "output_type": "execute_result"
    },
    {
     "data": {
      "image/png": "[encoded data removed]",
      "text/plain": [
       "<Figure size 432x288 with 1 Axes>"
      ]
     },
     "metadata": {
      "needs_background": "light"
     },
     "output_type": "display_data"
    }
   ],
   "source": [
    "#thal and heart disease\n",
    "targeted('thal')"
   ]
  },
  {
   "cell_type": "markdown",
   "metadata": {},
   "source": [
    "a reversible defect seems to be a good indicator of heart disease"
   ]
  },
  {
   "cell_type": "code",
   "execution_count": 18,
   "metadata": {},
   "outputs": [],
   "source": [
    "#bins for 'binable' groups for continued data exploration\n",
    "df_temp = df\n",
    "age_bins = [20,30,40,50,60,70,80]\n",
    "df_temp['age'] = pd.cut(df_temp['age'], age_bins)\n",
    "\n",
    "trestbps_bins = [80,120,129,139,140,180,200]\n",
    "df_temp['trestbps'] = pd.cut(df_temp['trestbps'], trestbps_bins)\n",
    "\n",
    "chol_bins = [100,200,239,575]\n",
    "df_temp['chol'] = pd.cut(df_temp['chol'], chol_bins)\n",
    "\n",
    "thalach_bins = [60,80,100,120,140,160,180,200,220]\n",
    "df_temp['thalach'] = pd.cut(df_temp['thalach'], thalach_bins)\n",
    "\n",
    "df_temp['target'] = df['target']"
   ]
  },
  {
   "cell_type": "code",
   "execution_count": 19,
   "metadata": {
    "scrolled": true
   },
   "outputs": [
    {
     "data": {
      "text/html": [
       "<div>\n",
       "<style scoped>\n",
       "    .dataframe tbody tr th:only-of-type {\n",
       "        vertical-align: middle;\n",
       "    }\n",
       "\n",
       "    .dataframe tbody tr th {\n",
       "        vertical-align: top;\n",
       "    }\n",
       "\n",
       "    .dataframe thead th {\n",
       "        text-align: right;\n",
       "    }\n",
       "</style>\n",
       "<table border=\"1\" class=\"dataframe\">\n",
       "  <thead>\n",
       "    <tr style=\"text-align: right;\">\n",
       "      <th></th>\n",
       "      <th>age</th>\n",
       "      <th>sex</th>\n",
       "      <th>cp</th>\n",
       "      <th>trestbps</th>\n",
       "      <th>chol</th>\n",
       "      <th>fbs</th>\n",
       "      <th>restecg</th>\n",
       "      <th>thalach</th>\n",
       "      <th>exang</th>\n",
       "      <th>oldpeak</th>\n",
       "      <th>slope</th>\n",
       "      <th>ca</th>\n",
       "      <th>thal</th>\n",
       "      <th>target</th>\n",
       "    </tr>\n",
       "  </thead>\n",
       "  <tbody>\n",
       "    <tr>\n",
       "      <th>0</th>\n",
       "      <td>(60, 70]</td>\n",
       "      <td>1</td>\n",
       "      <td>3</td>\n",
       "      <td>(140, 180]</td>\n",
       "      <td>(200, 239]</td>\n",
       "      <td>1</td>\n",
       "      <td>0</td>\n",
       "      <td>(140, 160]</td>\n",
       "      <td>0</td>\n",
       "      <td>2.3</td>\n",
       "      <td>0</td>\n",
       "      <td>0</td>\n",
       "      <td>1</td>\n",
       "      <td>1</td>\n",
       "    </tr>\n",
       "    <tr>\n",
       "      <th>1</th>\n",
       "      <td>(30, 40]</td>\n",
       "      <td>1</td>\n",
       "      <td>2</td>\n",
       "      <td>(129, 139]</td>\n",
       "      <td>(239, 575]</td>\n",
       "      <td>0</td>\n",
       "      <td>1</td>\n",
       "      <td>(180, 200]</td>\n",
       "      <td>0</td>\n",
       "      <td>3.5</td>\n",
       "      <td>0</td>\n",
       "      <td>0</td>\n",
       "      <td>2</td>\n",
       "      <td>1</td>\n",
       "    </tr>\n",
       "    <tr>\n",
       "      <th>2</th>\n",
       "      <td>(40, 50]</td>\n",
       "      <td>0</td>\n",
       "      <td>1</td>\n",
       "      <td>(129, 139]</td>\n",
       "      <td>(200, 239]</td>\n",
       "      <td>0</td>\n",
       "      <td>0</td>\n",
       "      <td>(160, 180]</td>\n",
       "      <td>0</td>\n",
       "      <td>1.4</td>\n",
       "      <td>2</td>\n",
       "      <td>0</td>\n",
       "      <td>2</td>\n",
       "      <td>1</td>\n",
       "    </tr>\n",
       "    <tr>\n",
       "      <th>3</th>\n",
       "      <td>(50, 60]</td>\n",
       "      <td>1</td>\n",
       "      <td>1</td>\n",
       "      <td>(80, 120]</td>\n",
       "      <td>(200, 239]</td>\n",
       "      <td>0</td>\n",
       "      <td>1</td>\n",
       "      <td>(160, 180]</td>\n",
       "      <td>0</td>\n",
       "      <td>0.8</td>\n",
       "      <td>2</td>\n",
       "      <td>0</td>\n",
       "      <td>2</td>\n",
       "      <td>1</td>\n",
       "    </tr>\n",
       "    <tr>\n",
       "      <th>4</th>\n",
       "      <td>(50, 60]</td>\n",
       "      <td>0</td>\n",
       "      <td>0</td>\n",
       "      <td>(80, 120]</td>\n",
       "      <td>(239, 575]</td>\n",
       "      <td>0</td>\n",
       "      <td>1</td>\n",
       "      <td>(160, 180]</td>\n",
       "      <td>1</td>\n",
       "      <td>0.6</td>\n",
       "      <td>2</td>\n",
       "      <td>0</td>\n",
       "      <td>2</td>\n",
       "      <td>1</td>\n",
       "    </tr>\n",
       "  </tbody>\n",
       "</table>\n",
       "</div>"
      ],
      "text/plain": [
       "        age  sex  cp    trestbps        chol  fbs  restecg     thalach  exang  \\\n",
       "0  (60, 70]    1   3  (140, 180]  (200, 239]    1        0  (140, 160]      0   \n",
       "1  (30, 40]    1   2  (129, 139]  (239, 575]    0        1  (180, 200]      0   \n",
       "2  (40, 50]    0   1  (129, 139]  (200, 239]    0        0  (160, 180]      0   \n",
       "3  (50, 60]    1   1   (80, 120]  (200, 239]    0        1  (160, 180]      0   \n",
       "4  (50, 60]    0   0   (80, 120]  (239, 575]    0        1  (160, 180]      1   \n",
       "\n",
       "   oldpeak  slope  ca  thal  target  \n",
       "0      2.3      0   0     1       1  \n",
       "1      3.5      0   0     2       1  \n",
       "2      1.4      2   0     2       1  \n",
       "3      0.8      2   0     2       1  \n",
       "4      0.6      2   0     2       1  "
      ]
     },
     "execution_count": 19,
     "metadata": {},
     "output_type": "execute_result"
    }
   ],
   "source": [
    "df_temp.head()"
   ]
  },
  {
   "cell_type": "code",
   "execution_count": 20,
   "metadata": {},
   "outputs": [],
   "source": [
    "def targeted_temp(variable):\n",
    "    disease=df_temp[df_temp[\"target\"]==0][variable].value_counts()/len(df_temp[\"target\"]==0)\n",
    "    no_disease=df_temp[df_temp[\"target\"]==1][variable].value_counts()/len(df_temp[\"target\"]==1)\n",
    "    data=pd.DataFrame([disease,no_disease])\n",
    "    data.index=[\"Disease\",\"No Disease\"]\n",
    "    data.plot(kind=\"bar\",stacked=False,title=\"Percentage\")\n",
    "    return data.head()"
   ]
  },
  {
   "cell_type": "code",
   "execution_count": 21,
   "metadata": {
    "scrolled": false
   },
   "outputs": [
    {
     "data": {
      "text/html": [
       "<div>\n",
       "<style scoped>\n",
       "    .dataframe tbody tr th:only-of-type {\n",
       "        vertical-align: middle;\n",
       "    }\n",
       "\n",
       "    .dataframe tbody tr th {\n",
       "        vertical-align: top;\n",
       "    }\n",
       "\n",
       "    .dataframe thead th {\n",
       "        text-align: right;\n",
       "    }\n",
       "</style>\n",
       "<table border=\"1\" class=\"dataframe\">\n",
       "  <thead>\n",
       "    <tr style=\"text-align: right;\">\n",
       "      <th></th>\n",
       "      <th>(20, 30]</th>\n",
       "      <th>(30, 40]</th>\n",
       "      <th>(40, 50]</th>\n",
       "      <th>(50, 60]</th>\n",
       "      <th>(60, 70]</th>\n",
       "      <th>(70, 80]</th>\n",
       "    </tr>\n",
       "  </thead>\n",
       "  <tbody>\n",
       "    <tr>\n",
       "      <th>Disease</th>\n",
       "      <td>0.0000</td>\n",
       "      <td>0.019802</td>\n",
       "      <td>0.075908</td>\n",
       "      <td>0.214521</td>\n",
       "      <td>0.141914</td>\n",
       "      <td>0.003300</td>\n",
       "    </tr>\n",
       "    <tr>\n",
       "      <th>No Disease</th>\n",
       "      <td>0.0033</td>\n",
       "      <td>0.039604</td>\n",
       "      <td>0.174917</td>\n",
       "      <td>0.211221</td>\n",
       "      <td>0.099010</td>\n",
       "      <td>0.016502</td>\n",
       "    </tr>\n",
       "  </tbody>\n",
       "</table>\n",
       "</div>"
      ],
      "text/plain": [
       "            (20, 30]  (30, 40]  (40, 50]  (50, 60]  (60, 70]  (70, 80]\n",
       "Disease       0.0000  0.019802  0.075908  0.214521  0.141914  0.003300\n",
       "No Disease    0.0033  0.039604  0.174917  0.211221  0.099010  0.016502"
      ]
     },
     "execution_count": 21,
     "metadata": {},
     "output_type": "execute_result"
    },
    {
     "data": {
      "image/png": "[encoded data removed]",
      "text/plain": [
       "<Figure size 432x288 with 1 Axes>"
      ]
     },
     "metadata": {
      "needs_background": "light"
     },
     "output_type": "display_data"
    }
   ],
   "source": [
    "#age and heart disease\n",
    "targeted_temp('age')"
   ]
  },
  {
   "cell_type": "markdown",
   "metadata": {},
   "source": [
    "created bins for age based on decades. there seems to be a hike in heart disease for individuals in the age range of 50-70s."
   ]
  },
  {
   "cell_type": "code",
   "execution_count": 22,
   "metadata": {
    "scrolled": false
   },
   "outputs": [
    {
     "data": {
      "text/html": [
       "<div>\n",
       "<style scoped>\n",
       "    .dataframe tbody tr th:only-of-type {\n",
       "        vertical-align: middle;\n",
       "    }\n",
       "\n",
       "    .dataframe tbody tr th {\n",
       "        vertical-align: top;\n",
       "    }\n",
       "\n",
       "    .dataframe thead th {\n",
       "        text-align: right;\n",
       "    }\n",
       "</style>\n",
       "<table border=\"1\" class=\"dataframe\">\n",
       "  <thead>\n",
       "    <tr style=\"text-align: right;\">\n",
       "      <th></th>\n",
       "      <th>(80, 120]</th>\n",
       "      <th>(120, 129]</th>\n",
       "      <th>(129, 139]</th>\n",
       "      <th>(139, 140]</th>\n",
       "      <th>(140, 180]</th>\n",
       "      <th>(180, 200]</th>\n",
       "    </tr>\n",
       "  </thead>\n",
       "  <tbody>\n",
       "    <tr>\n",
       "      <th>Disease</th>\n",
       "      <td>0.122112</td>\n",
       "      <td>0.069307</td>\n",
       "      <td>0.089109</td>\n",
       "      <td>0.049505</td>\n",
       "      <td>0.118812</td>\n",
       "      <td>0.006601</td>\n",
       "    </tr>\n",
       "    <tr>\n",
       "      <th>No Disease</th>\n",
       "      <td>0.198020</td>\n",
       "      <td>0.056106</td>\n",
       "      <td>0.145215</td>\n",
       "      <td>0.056106</td>\n",
       "      <td>0.089109</td>\n",
       "      <td>0.000000</td>\n",
       "    </tr>\n",
       "  </tbody>\n",
       "</table>\n",
       "</div>"
      ],
      "text/plain": [
       "            (80, 120]  (120, 129]  (129, 139]  (139, 140]  (140, 180]  \\\n",
       "Disease      0.122112    0.069307    0.089109    0.049505    0.118812   \n",
       "No Disease   0.198020    0.056106    0.145215    0.056106    0.089109   \n",
       "\n",
       "            (180, 200]  \n",
       "Disease       0.006601  \n",
       "No Disease    0.000000  "
      ]
     },
     "execution_count": 22,
     "metadata": {},
     "output_type": "execute_result"
    },
    {
     "data": {
      "image/png": "[encoded data removed]",
      "text/plain": [
       "<Figure size 432x288 with 1 Axes>"
      ]
     },
     "metadata": {
      "needs_background": "light"
     },
     "output_type": "display_data"
    }
   ],
   "source": [
    "#systolic blood pressure and heart disease\n",
    "targeted_temp('trestbps')"
   ]
  },
  {
   "cell_type": "markdown",
   "metadata": {},
   "source": [
    "created bins based on healthy to unhealthy resting blood pressure rates. it would be good to note that the blood pressure in data was the systoli blood pressure (usually the bigger number quoted in a reading).\n",
    "- normal: < 120\n",
    "- elevated: 120 <= x <= 129\n",
    "- high 1: 130 <= x <= 139\n",
    "- high 2: 140 <= x <= 180\n",
    "- crisis: 180 <"
   ]
  },
  {
   "cell_type": "code",
   "execution_count": 23,
   "metadata": {
    "scrolled": false
   },
   "outputs": [
    {
     "data": {
      "text/html": [
       "<div>\n",
       "<style scoped>\n",
       "    .dataframe tbody tr th:only-of-type {\n",
       "        vertical-align: middle;\n",
       "    }\n",
       "\n",
       "    .dataframe tbody tr th {\n",
       "        vertical-align: top;\n",
       "    }\n",
       "\n",
       "    .dataframe thead th {\n",
       "        text-align: right;\n",
       "    }\n",
       "</style>\n",
       "<table border=\"1\" class=\"dataframe\">\n",
       "  <thead>\n",
       "    <tr style=\"text-align: right;\">\n",
       "      <th></th>\n",
       "      <th>(239, 575]</th>\n",
       "      <th>(200, 239]</th>\n",
       "      <th>(100, 200]</th>\n",
       "    </tr>\n",
       "  </thead>\n",
       "  <tbody>\n",
       "    <tr>\n",
       "      <th>Disease</th>\n",
       "      <td>0.260726</td>\n",
       "      <td>0.125413</td>\n",
       "      <td>0.069307</td>\n",
       "    </tr>\n",
       "    <tr>\n",
       "      <th>No Disease</th>\n",
       "      <td>0.250825</td>\n",
       "      <td>0.194719</td>\n",
       "      <td>0.099010</td>\n",
       "    </tr>\n",
       "  </tbody>\n",
       "</table>\n",
       "</div>"
      ],
      "text/plain": [
       "            (239, 575]  (200, 239]  (100, 200]\n",
       "Disease       0.260726    0.125413    0.069307\n",
       "No Disease    0.250825    0.194719    0.099010"
      ]
     },
     "execution_count": 23,
     "metadata": {},
     "output_type": "execute_result"
    },
    {
     "data": {
      "image/png": "[encoded data removed]",
      "text/plain": [
       "<Figure size 432x288 with 1 Axes>"
      ]
     },
     "metadata": {
      "needs_background": "light"
     },
     "output_type": "display_data"
    }
   ],
   "source": [
    "#cholesterol and heart disease\n",
    "targeted_temp('chol')"
   ]
  },
  {
   "cell_type": "markdown",
   "metadata": {},
   "source": [
    "created bins based on healthy to unhealthy cholesterol levels.\n",
    "- desireable: < 200\n",
    "- borderline: 200 <= x <= 239\n",
    "- high risk: 239 <"
   ]
  },
  {
   "cell_type": "code",
   "execution_count": 24,
   "metadata": {},
   "outputs": [
    {
     "data": {
      "text/html": [
       "<div>\n",
       "<style scoped>\n",
       "    .dataframe tbody tr th:only-of-type {\n",
       "        vertical-align: middle;\n",
       "    }\n",
       "\n",
       "    .dataframe tbody tr th {\n",
       "        vertical-align: top;\n",
       "    }\n",
       "\n",
       "    .dataframe thead th {\n",
       "        text-align: right;\n",
       "    }\n",
       "</style>\n",
       "<table border=\"1\" class=\"dataframe\">\n",
       "  <thead>\n",
       "    <tr style=\"text-align: right;\">\n",
       "      <th></th>\n",
       "      <th>(60, 80]</th>\n",
       "      <th>(80, 100]</th>\n",
       "      <th>(100, 120]</th>\n",
       "      <th>(120, 140]</th>\n",
       "      <th>(140, 160]</th>\n",
       "      <th>(160, 180]</th>\n",
       "      <th>(180, 200]</th>\n",
       "      <th>(200, 220]</th>\n",
       "    </tr>\n",
       "  </thead>\n",
       "  <tbody>\n",
       "    <tr>\n",
       "      <th>Disease</th>\n",
       "      <td>0.0033</td>\n",
       "      <td>0.019802</td>\n",
       "      <td>0.075908</td>\n",
       "      <td>0.115512</td>\n",
       "      <td>0.158416</td>\n",
       "      <td>0.072607</td>\n",
       "      <td>0.009901</td>\n",
       "      <td>0.0000</td>\n",
       "    </tr>\n",
       "    <tr>\n",
       "      <th>No Disease</th>\n",
       "      <td>0.0000</td>\n",
       "      <td>0.003300</td>\n",
       "      <td>0.019802</td>\n",
       "      <td>0.062706</td>\n",
       "      <td>0.178218</td>\n",
       "      <td>0.231023</td>\n",
       "      <td>0.046205</td>\n",
       "      <td>0.0033</td>\n",
       "    </tr>\n",
       "  </tbody>\n",
       "</table>\n",
       "</div>"
      ],
      "text/plain": [
       "            (60, 80]  (80, 100]  (100, 120]  (120, 140]  (140, 160]  \\\n",
       "Disease       0.0033   0.019802    0.075908    0.115512    0.158416   \n",
       "No Disease    0.0000   0.003300    0.019802    0.062706    0.178218   \n",
       "\n",
       "            (160, 180]  (180, 200]  (200, 220]  \n",
       "Disease       0.072607    0.009901      0.0000  \n",
       "No Disease    0.231023    0.046205      0.0033  "
      ]
     },
     "execution_count": 24,
     "metadata": {},
     "output_type": "execute_result"
    },
    {
     "data": {
      "image/png": "[encoded data removed]",
      "text/plain": [
       "<Figure size 432x288 with 1 Axes>"
      ]
     },
     "metadata": {
      "needs_background": "light"
     },
     "output_type": "display_data"
    }
   ],
   "source": [
    "#max heart rate and heart disease\n",
    "targeted_temp('thalach')"
   ]
  },
  {
   "cell_type": "markdown",
   "metadata": {},
   "source": [
    "## Feature Engineering"
   ]
  },
  {
   "cell_type": "markdown",
   "metadata": {},
   "source": [
    "from the above data exploration, the following features will be selected to be implemented into the classifier model:\n",
    "- age \n",
    "- sex\n",
    "- cp\n",
    "- trestbps\n",
    "- chol\n",
    "- ca\n",
    "- thal\n",
    "- target\n",
    "- exang\n",
    "\n",
    "and the following less relatable features will be removed: \n",
    "- fbs\n",
    "- restecg\n",
    "- thalach\n",
    "- oldpeak\n",
    "- slope"
   ]
  },
  {
   "cell_type": "code",
   "execution_count": 25,
   "metadata": {},
   "outputs": [
    {
     "data": {
      "text/html": [
       "<div>\n",
       "<style scoped>\n",
       "    .dataframe tbody tr th:only-of-type {\n",
       "        vertical-align: middle;\n",
       "    }\n",
       "\n",
       "    .dataframe tbody tr th {\n",
       "        vertical-align: top;\n",
       "    }\n",
       "\n",
       "    .dataframe thead th {\n",
       "        text-align: right;\n",
       "    }\n",
       "</style>\n",
       "<table border=\"1\" class=\"dataframe\">\n",
       "  <thead>\n",
       "    <tr style=\"text-align: right;\">\n",
       "      <th></th>\n",
       "      <th>age</th>\n",
       "      <th>sex</th>\n",
       "      <th>cp</th>\n",
       "      <th>trestbps</th>\n",
       "      <th>chol</th>\n",
       "      <th>exang</th>\n",
       "      <th>ca</th>\n",
       "      <th>thal</th>\n",
       "      <th>target</th>\n",
       "    </tr>\n",
       "  </thead>\n",
       "  <tbody>\n",
       "    <tr>\n",
       "      <th>0</th>\n",
       "      <td>(60, 70]</td>\n",
       "      <td>1</td>\n",
       "      <td>3</td>\n",
       "      <td>(140, 180]</td>\n",
       "      <td>(200, 239]</td>\n",
       "      <td>0</td>\n",
       "      <td>0</td>\n",
       "      <td>1</td>\n",
       "      <td>1</td>\n",
       "    </tr>\n",
       "    <tr>\n",
       "      <th>1</th>\n",
       "      <td>(30, 40]</td>\n",
       "      <td>1</td>\n",
       "      <td>2</td>\n",
       "      <td>(129, 139]</td>\n",
       "      <td>(239, 575]</td>\n",
       "      <td>0</td>\n",
       "      <td>0</td>\n",
       "      <td>2</td>\n",
       "      <td>1</td>\n",
       "    </tr>\n",
       "    <tr>\n",
       "      <th>2</th>\n",
       "      <td>(40, 50]</td>\n",
       "      <td>0</td>\n",
       "      <td>1</td>\n",
       "      <td>(129, 139]</td>\n",
       "      <td>(200, 239]</td>\n",
       "      <td>0</td>\n",
       "      <td>0</td>\n",
       "      <td>2</td>\n",
       "      <td>1</td>\n",
       "    </tr>\n",
       "    <tr>\n",
       "      <th>3</th>\n",
       "      <td>(50, 60]</td>\n",
       "      <td>1</td>\n",
       "      <td>1</td>\n",
       "      <td>(80, 120]</td>\n",
       "      <td>(200, 239]</td>\n",
       "      <td>0</td>\n",
       "      <td>0</td>\n",
       "      <td>2</td>\n",
       "      <td>1</td>\n",
       "    </tr>\n",
       "    <tr>\n",
       "      <th>4</th>\n",
       "      <td>(50, 60]</td>\n",
       "      <td>0</td>\n",
       "      <td>0</td>\n",
       "      <td>(80, 120]</td>\n",
       "      <td>(239, 575]</td>\n",
       "      <td>1</td>\n",
       "      <td>0</td>\n",
       "      <td>2</td>\n",
       "      <td>1</td>\n",
       "    </tr>\n",
       "  </tbody>\n",
       "</table>\n",
       "</div>"
      ],
      "text/plain": [
       "        age  sex  cp    trestbps        chol  exang  ca  thal  target\n",
       "0  (60, 70]    1   3  (140, 180]  (200, 239]      0   0     1       1\n",
       "1  (30, 40]    1   2  (129, 139]  (239, 575]      0   0     2       1\n",
       "2  (40, 50]    0   1  (129, 139]  (200, 239]      0   0     2       1\n",
       "3  (50, 60]    1   1   (80, 120]  (200, 239]      0   0     2       1\n",
       "4  (50, 60]    0   0   (80, 120]  (239, 575]      1   0     2       1"
      ]
     },
     "execution_count": 25,
     "metadata": {},
     "output_type": "execute_result"
    }
   ],
   "source": [
    "#df_enr is the new engineered data frame.\n",
    "df_eng = df[[\"age\", \"sex\", \"cp\", \"trestbps\", \"chol\", \"exang\", \"ca\", \"thal\", \"target\"]]\n",
    "df_eng.head()"
   ]
  },
  {
   "cell_type": "code",
   "execution_count": 26,
   "metadata": {},
   "outputs": [
    {
     "data": {
      "text/html": [
       "<div>\n",
       "<style scoped>\n",
       "    .dataframe tbody tr th:only-of-type {\n",
       "        vertical-align: middle;\n",
       "    }\n",
       "\n",
       "    .dataframe tbody tr th {\n",
       "        vertical-align: top;\n",
       "    }\n",
       "\n",
       "    .dataframe thead th {\n",
       "        text-align: right;\n",
       "    }\n",
       "</style>\n",
       "<table border=\"1\" class=\"dataframe\">\n",
       "  <thead>\n",
       "    <tr style=\"text-align: right;\">\n",
       "      <th></th>\n",
       "      <th>age</th>\n",
       "      <th>sex</th>\n",
       "      <th>cp</th>\n",
       "      <th>trestbps</th>\n",
       "      <th>chol</th>\n",
       "      <th>exang</th>\n",
       "      <th>ca</th>\n",
       "      <th>thal</th>\n",
       "      <th>target</th>\n",
       "    </tr>\n",
       "  </thead>\n",
       "  <tbody>\n",
       "    <tr>\n",
       "      <th>201</th>\n",
       "      <td>(50, 60]</td>\n",
       "      <td>1</td>\n",
       "      <td>0</td>\n",
       "      <td>(120, 129]</td>\n",
       "      <td>(239, 575]</td>\n",
       "      <td>1</td>\n",
       "      <td>1</td>\n",
       "      <td>3</td>\n",
       "      <td>0</td>\n",
       "    </tr>\n",
       "    <tr>\n",
       "      <th>140</th>\n",
       "      <td>(50, 60]</td>\n",
       "      <td>0</td>\n",
       "      <td>2</td>\n",
       "      <td>(80, 120]</td>\n",
       "      <td>(239, 575]</td>\n",
       "      <td>0</td>\n",
       "      <td>0</td>\n",
       "      <td>2</td>\n",
       "      <td>1</td>\n",
       "    </tr>\n",
       "    <tr>\n",
       "      <th>178</th>\n",
       "      <td>(40, 50]</td>\n",
       "      <td>1</td>\n",
       "      <td>0</td>\n",
       "      <td>(80, 120]</td>\n",
       "      <td>(100, 200]</td>\n",
       "      <td>1</td>\n",
       "      <td>0</td>\n",
       "      <td>3</td>\n",
       "      <td>0</td>\n",
       "    </tr>\n",
       "    <tr>\n",
       "      <th>44</th>\n",
       "      <td>(30, 40]</td>\n",
       "      <td>1</td>\n",
       "      <td>2</td>\n",
       "      <td>(139, 140]</td>\n",
       "      <td>(239, 575]</td>\n",
       "      <td>0</td>\n",
       "      <td>0</td>\n",
       "      <td>2</td>\n",
       "      <td>1</td>\n",
       "    </tr>\n",
       "    <tr>\n",
       "      <th>126</th>\n",
       "      <td>(40, 50]</td>\n",
       "      <td>1</td>\n",
       "      <td>0</td>\n",
       "      <td>(80, 120]</td>\n",
       "      <td>(200, 239]</td>\n",
       "      <td>0</td>\n",
       "      <td>0</td>\n",
       "      <td>2</td>\n",
       "      <td>1</td>\n",
       "    </tr>\n",
       "    <tr>\n",
       "      <th>257</th>\n",
       "      <td>(40, 50]</td>\n",
       "      <td>1</td>\n",
       "      <td>0</td>\n",
       "      <td>(140, 180]</td>\n",
       "      <td>(100, 200]</td>\n",
       "      <td>1</td>\n",
       "      <td>0</td>\n",
       "      <td>3</td>\n",
       "      <td>0</td>\n",
       "    </tr>\n",
       "    <tr>\n",
       "      <th>38</th>\n",
       "      <td>(60, 70]</td>\n",
       "      <td>0</td>\n",
       "      <td>2</td>\n",
       "      <td>(140, 180]</td>\n",
       "      <td>(239, 575]</td>\n",
       "      <td>0</td>\n",
       "      <td>0</td>\n",
       "      <td>2</td>\n",
       "      <td>1</td>\n",
       "    </tr>\n",
       "    <tr>\n",
       "      <th>82</th>\n",
       "      <td>(50, 60]</td>\n",
       "      <td>0</td>\n",
       "      <td>2</td>\n",
       "      <td>(80, 120]</td>\n",
       "      <td>(239, 575]</td>\n",
       "      <td>0</td>\n",
       "      <td>1</td>\n",
       "      <td>2</td>\n",
       "      <td>1</td>\n",
       "    </tr>\n",
       "    <tr>\n",
       "      <th>234</th>\n",
       "      <td>(60, 70]</td>\n",
       "      <td>1</td>\n",
       "      <td>0</td>\n",
       "      <td>(129, 139]</td>\n",
       "      <td>(239, 575]</td>\n",
       "      <td>0</td>\n",
       "      <td>3</td>\n",
       "      <td>2</td>\n",
       "      <td>0</td>\n",
       "    </tr>\n",
       "    <tr>\n",
       "      <th>224</th>\n",
       "      <td>(50, 60]</td>\n",
       "      <td>1</td>\n",
       "      <td>0</td>\n",
       "      <td>(80, 120]</td>\n",
       "      <td>(200, 239]</td>\n",
       "      <td>1</td>\n",
       "      <td>1</td>\n",
       "      <td>3</td>\n",
       "      <td>0</td>\n",
       "    </tr>\n",
       "    <tr>\n",
       "      <th>15</th>\n",
       "      <td>(40, 50]</td>\n",
       "      <td>0</td>\n",
       "      <td>2</td>\n",
       "      <td>(80, 120]</td>\n",
       "      <td>(200, 239]</td>\n",
       "      <td>0</td>\n",
       "      <td>0</td>\n",
       "      <td>2</td>\n",
       "      <td>1</td>\n",
       "    </tr>\n",
       "    <tr>\n",
       "      <th>113</th>\n",
       "      <td>(40, 50]</td>\n",
       "      <td>1</td>\n",
       "      <td>0</td>\n",
       "      <td>(80, 120]</td>\n",
       "      <td>(200, 239]</td>\n",
       "      <td>0</td>\n",
       "      <td>0</td>\n",
       "      <td>3</td>\n",
       "      <td>1</td>\n",
       "    </tr>\n",
       "    <tr>\n",
       "      <th>71</th>\n",
       "      <td>(50, 60]</td>\n",
       "      <td>1</td>\n",
       "      <td>2</td>\n",
       "      <td>(80, 120]</td>\n",
       "      <td>(200, 239]</td>\n",
       "      <td>1</td>\n",
       "      <td>1</td>\n",
       "      <td>3</td>\n",
       "      <td>1</td>\n",
       "    </tr>\n",
       "    <tr>\n",
       "      <th>119</th>\n",
       "      <td>(40, 50]</td>\n",
       "      <td>0</td>\n",
       "      <td>0</td>\n",
       "      <td>(129, 139]</td>\n",
       "      <td>(239, 575]</td>\n",
       "      <td>1</td>\n",
       "      <td>0</td>\n",
       "      <td>2</td>\n",
       "      <td>1</td>\n",
       "    </tr>\n",
       "    <tr>\n",
       "      <th>280</th>\n",
       "      <td>(40, 50]</td>\n",
       "      <td>1</td>\n",
       "      <td>0</td>\n",
       "      <td>(129, 139]</td>\n",
       "      <td>(239, 575]</td>\n",
       "      <td>1</td>\n",
       "      <td>0</td>\n",
       "      <td>1</td>\n",
       "      <td>0</td>\n",
       "    </tr>\n",
       "    <tr>\n",
       "      <th>215</th>\n",
       "      <td>(40, 50]</td>\n",
       "      <td>0</td>\n",
       "      <td>0</td>\n",
       "      <td>(129, 139]</td>\n",
       "      <td>(239, 575]</td>\n",
       "      <td>1</td>\n",
       "      <td>0</td>\n",
       "      <td>3</td>\n",
       "      <td>0</td>\n",
       "    </tr>\n",
       "    <tr>\n",
       "      <th>134</th>\n",
       "      <td>(40, 50]</td>\n",
       "      <td>0</td>\n",
       "      <td>1</td>\n",
       "      <td>(120, 129]</td>\n",
       "      <td>(239, 575]</td>\n",
       "      <td>0</td>\n",
       "      <td>0</td>\n",
       "      <td>2</td>\n",
       "      <td>1</td>\n",
       "    </tr>\n",
       "    <tr>\n",
       "      <th>242</th>\n",
       "      <td>(60, 70]</td>\n",
       "      <td>1</td>\n",
       "      <td>0</td>\n",
       "      <td>(140, 180]</td>\n",
       "      <td>(200, 239]</td>\n",
       "      <td>0</td>\n",
       "      <td>2</td>\n",
       "      <td>1</td>\n",
       "      <td>0</td>\n",
       "    </tr>\n",
       "    <tr>\n",
       "      <th>261</th>\n",
       "      <td>(50, 60]</td>\n",
       "      <td>1</td>\n",
       "      <td>0</td>\n",
       "      <td>(80, 120]</td>\n",
       "      <td>(200, 239]</td>\n",
       "      <td>0</td>\n",
       "      <td>1</td>\n",
       "      <td>2</td>\n",
       "      <td>0</td>\n",
       "    </tr>\n",
       "    <tr>\n",
       "      <th>295</th>\n",
       "      <td>(60, 70]</td>\n",
       "      <td>1</td>\n",
       "      <td>0</td>\n",
       "      <td>(139, 140]</td>\n",
       "      <td>(100, 200]</td>\n",
       "      <td>1</td>\n",
       "      <td>2</td>\n",
       "      <td>3</td>\n",
       "      <td>0</td>\n",
       "    </tr>\n",
       "  </tbody>\n",
       "</table>\n",
       "</div>"
      ],
      "text/plain": [
       "          age  sex  cp    trestbps        chol  exang  ca  thal  target\n",
       "201  (50, 60]    1   0  (120, 129]  (239, 575]      1   1     3       0\n",
       "140  (50, 60]    0   2   (80, 120]  (239, 575]      0   0     2       1\n",
       "178  (40, 50]    1   0   (80, 120]  (100, 200]      1   0     3       0\n",
       "44   (30, 40]    1   2  (139, 140]  (239, 575]      0   0     2       1\n",
       "126  (40, 50]    1   0   (80, 120]  (200, 239]      0   0     2       1\n",
       "257  (40, 50]    1   0  (140, 180]  (100, 200]      1   0     3       0\n",
       "38   (60, 70]    0   2  (140, 180]  (239, 575]      0   0     2       1\n",
       "82   (50, 60]    0   2   (80, 120]  (239, 575]      0   1     2       1\n",
       "234  (60, 70]    1   0  (129, 139]  (239, 575]      0   3     2       0\n",
       "224  (50, 60]    1   0   (80, 120]  (200, 239]      1   1     3       0\n",
       "15   (40, 50]    0   2   (80, 120]  (200, 239]      0   0     2       1\n",
       "113  (40, 50]    1   0   (80, 120]  (200, 239]      0   0     3       1\n",
       "71   (50, 60]    1   2   (80, 120]  (200, 239]      1   1     3       1\n",
       "119  (40, 50]    0   0  (129, 139]  (239, 575]      1   0     2       1\n",
       "280  (40, 50]    1   0  (129, 139]  (239, 575]      1   0     1       0\n",
       "215  (40, 50]    0   0  (129, 139]  (239, 575]      1   0     3       0\n",
       "134  (40, 50]    0   1  (120, 129]  (239, 575]      0   0     2       1\n",
       "242  (60, 70]    1   0  (140, 180]  (200, 239]      0   2     1       0\n",
       "261  (50, 60]    1   0   (80, 120]  (200, 239]      0   1     2       0\n",
       "295  (60, 70]    1   0  (139, 140]  (100, 200]      1   2     3       0"
      ]
     },
     "execution_count": 26,
     "metadata": {},
     "output_type": "execute_result"
    }
   ],
   "source": [
    "#shuffle data for training, validation, testing\n",
    "df_eng = df_eng.sample(frac=1)\n",
    "df_eng.head(20)"
   ]
  },
  {
   "cell_type": "code",
   "execution_count": 27,
   "metadata": {},
   "outputs": [],
   "source": [
    "#MinMax scaler on int values from df_eng\n",
    "regressionFeatures =  MinMaxScaler().fit_transform(df_eng[['sex','cp','exang','ca','thal','target']])\n",
    "df_regressionFeatures = pd.DataFrame(regressionFeatures, columns = ['sex','cp','exang','ca','thal','target'])"
   ]
  },
  {
   "cell_type": "code",
   "execution_count": 28,
   "metadata": {},
   "outputs": [],
   "source": [
    "#dummies on binned values from df_eng\n",
    "classFeatures = pd.get_dummies(df_eng[['age','trestbps','chol']])\n",
    "df_classFeature_dummies = pd.DataFrame(classFeatures)"
   ]
  },
  {
   "cell_type": "markdown",
   "metadata": {},
   "source": [
    "for the categories in bins, utilize get dummies to convert to numerical values"
   ]
  },
  {
   "cell_type": "code",
   "execution_count": 29,
   "metadata": {
    "scrolled": true
   },
   "outputs": [
    {
     "data": {
      "text/html": [
       "<div>\n",
       "<style scoped>\n",
       "    .dataframe tbody tr th:only-of-type {\n",
       "        vertical-align: middle;\n",
       "    }\n",
       "\n",
       "    .dataframe tbody tr th {\n",
       "        vertical-align: top;\n",
       "    }\n",
       "\n",
       "    .dataframe thead th {\n",
       "        text-align: right;\n",
       "    }\n",
       "</style>\n",
       "<table border=\"1\" class=\"dataframe\">\n",
       "  <thead>\n",
       "    <tr style=\"text-align: right;\">\n",
       "      <th></th>\n",
       "      <th>sex</th>\n",
       "      <th>cp</th>\n",
       "      <th>exang</th>\n",
       "      <th>ca</th>\n",
       "      <th>thal</th>\n",
       "      <th>target</th>\n",
       "      <th>age_(20, 30]</th>\n",
       "      <th>age_(30, 40]</th>\n",
       "      <th>age_(40, 50]</th>\n",
       "      <th>age_(50, 60]</th>\n",
       "      <th>...</th>\n",
       "      <th>age_(70, 80]</th>\n",
       "      <th>trestbps_(80, 120]</th>\n",
       "      <th>trestbps_(120, 129]</th>\n",
       "      <th>trestbps_(129, 139]</th>\n",
       "      <th>trestbps_(139, 140]</th>\n",
       "      <th>trestbps_(140, 180]</th>\n",
       "      <th>trestbps_(180, 200]</th>\n",
       "      <th>chol_(100, 200]</th>\n",
       "      <th>chol_(200, 239]</th>\n",
       "      <th>chol_(239, 575]</th>\n",
       "    </tr>\n",
       "  </thead>\n",
       "  <tbody>\n",
       "    <tr>\n",
       "      <th>0</th>\n",
       "      <td>1.0</td>\n",
       "      <td>0.000000</td>\n",
       "      <td>1.0</td>\n",
       "      <td>0.25</td>\n",
       "      <td>1.000000</td>\n",
       "      <td>0.0</td>\n",
       "      <td>0</td>\n",
       "      <td>0</td>\n",
       "      <td>0</td>\n",
       "      <td>0</td>\n",
       "      <td>...</td>\n",
       "      <td>0</td>\n",
       "      <td>0</td>\n",
       "      <td>0</td>\n",
       "      <td>0</td>\n",
       "      <td>0</td>\n",
       "      <td>1</td>\n",
       "      <td>0</td>\n",
       "      <td>0</td>\n",
       "      <td>1</td>\n",
       "      <td>0</td>\n",
       "    </tr>\n",
       "    <tr>\n",
       "      <th>1</th>\n",
       "      <td>0.0</td>\n",
       "      <td>0.666667</td>\n",
       "      <td>0.0</td>\n",
       "      <td>0.00</td>\n",
       "      <td>0.666667</td>\n",
       "      <td>1.0</td>\n",
       "      <td>0</td>\n",
       "      <td>1</td>\n",
       "      <td>0</td>\n",
       "      <td>0</td>\n",
       "      <td>...</td>\n",
       "      <td>0</td>\n",
       "      <td>0</td>\n",
       "      <td>0</td>\n",
       "      <td>1</td>\n",
       "      <td>0</td>\n",
       "      <td>0</td>\n",
       "      <td>0</td>\n",
       "      <td>0</td>\n",
       "      <td>0</td>\n",
       "      <td>1</td>\n",
       "    </tr>\n",
       "    <tr>\n",
       "      <th>2</th>\n",
       "      <td>1.0</td>\n",
       "      <td>0.000000</td>\n",
       "      <td>1.0</td>\n",
       "      <td>0.00</td>\n",
       "      <td>1.000000</td>\n",
       "      <td>0.0</td>\n",
       "      <td>0</td>\n",
       "      <td>0</td>\n",
       "      <td>1</td>\n",
       "      <td>0</td>\n",
       "      <td>...</td>\n",
       "      <td>0</td>\n",
       "      <td>0</td>\n",
       "      <td>0</td>\n",
       "      <td>1</td>\n",
       "      <td>0</td>\n",
       "      <td>0</td>\n",
       "      <td>0</td>\n",
       "      <td>0</td>\n",
       "      <td>1</td>\n",
       "      <td>0</td>\n",
       "    </tr>\n",
       "    <tr>\n",
       "      <th>3</th>\n",
       "      <td>1.0</td>\n",
       "      <td>0.666667</td>\n",
       "      <td>0.0</td>\n",
       "      <td>0.00</td>\n",
       "      <td>0.666667</td>\n",
       "      <td>1.0</td>\n",
       "      <td>0</td>\n",
       "      <td>0</td>\n",
       "      <td>0</td>\n",
       "      <td>1</td>\n",
       "      <td>...</td>\n",
       "      <td>0</td>\n",
       "      <td>1</td>\n",
       "      <td>0</td>\n",
       "      <td>0</td>\n",
       "      <td>0</td>\n",
       "      <td>0</td>\n",
       "      <td>0</td>\n",
       "      <td>0</td>\n",
       "      <td>1</td>\n",
       "      <td>0</td>\n",
       "    </tr>\n",
       "    <tr>\n",
       "      <th>4</th>\n",
       "      <td>1.0</td>\n",
       "      <td>0.000000</td>\n",
       "      <td>0.0</td>\n",
       "      <td>0.00</td>\n",
       "      <td>0.666667</td>\n",
       "      <td>1.0</td>\n",
       "      <td>0</td>\n",
       "      <td>0</td>\n",
       "      <td>0</td>\n",
       "      <td>1</td>\n",
       "      <td>...</td>\n",
       "      <td>0</td>\n",
       "      <td>1</td>\n",
       "      <td>0</td>\n",
       "      <td>0</td>\n",
       "      <td>0</td>\n",
       "      <td>0</td>\n",
       "      <td>0</td>\n",
       "      <td>0</td>\n",
       "      <td>0</td>\n",
       "      <td>1</td>\n",
       "    </tr>\n",
       "  </tbody>\n",
       "</table>\n",
       "<p>5 rows × 21 columns</p>\n",
       "</div>"
      ],
      "text/plain": [
       "   sex        cp  exang    ca      thal  target  age_(20, 30]  age_(30, 40]  \\\n",
       "0  1.0  0.000000    1.0  0.25  1.000000     0.0             0             0   \n",
       "1  0.0  0.666667    0.0  0.00  0.666667     1.0             0             1   \n",
       "2  1.0  0.000000    1.0  0.00  1.000000     0.0             0             0   \n",
       "3  1.0  0.666667    0.0  0.00  0.666667     1.0             0             0   \n",
       "4  1.0  0.000000    0.0  0.00  0.666667     1.0             0             0   \n",
       "\n",
       "   age_(40, 50]  age_(50, 60]  ...  age_(70, 80]  trestbps_(80, 120]  \\\n",
       "0             0             0  ...             0                   0   \n",
       "1             0             0  ...             0                   0   \n",
       "2             1             0  ...             0                   0   \n",
       "3             0             1  ...             0                   1   \n",
       "4             0             1  ...             0                   1   \n",
       "\n",
       "   trestbps_(120, 129]  trestbps_(129, 139]  trestbps_(139, 140]  \\\n",
       "0                    0                    0                    0   \n",
       "1                    0                    1                    0   \n",
       "2                    0                    1                    0   \n",
       "3                    0                    0                    0   \n",
       "4                    0                    0                    0   \n",
       "\n",
       "   trestbps_(140, 180]  trestbps_(180, 200]  chol_(100, 200]  chol_(200, 239]  \\\n",
       "0                    1                    0                0                1   \n",
       "1                    0                    0                0                0   \n",
       "2                    0                    0                0                1   \n",
       "3                    0                    0                0                1   \n",
       "4                    0                    0                0                0   \n",
       "\n",
       "   chol_(239, 575]  \n",
       "0                0  \n",
       "1                1  \n",
       "2                0  \n",
       "3                0  \n",
       "4                1  \n",
       "\n",
       "[5 rows x 21 columns]"
      ]
     },
     "execution_count": 29,
     "metadata": {},
     "output_type": "execute_result"
    }
   ],
   "source": [
    "dfFull = pd.concat([df_regressionFeatures,df_classFeature_dummies], axis = 1)\n",
    "dfFull = dfFull.dropna()\n",
    "dfFull.head()"
   ]
  },
  {
   "cell_type": "code",
   "execution_count": 30,
   "metadata": {
    "scrolled": true
   },
   "outputs": [
    {
     "data": {
      "text/html": [
       "<div>\n",
       "<style scoped>\n",
       "    .dataframe tbody tr th:only-of-type {\n",
       "        vertical-align: middle;\n",
       "    }\n",
       "\n",
       "    .dataframe tbody tr th {\n",
       "        vertical-align: top;\n",
       "    }\n",
       "\n",
       "    .dataframe thead th {\n",
       "        text-align: right;\n",
       "    }\n",
       "</style>\n",
       "<table border=\"1\" class=\"dataframe\">\n",
       "  <thead>\n",
       "    <tr style=\"text-align: right;\">\n",
       "      <th></th>\n",
       "      <th>sex</th>\n",
       "      <th>cp</th>\n",
       "      <th>exang</th>\n",
       "      <th>ca</th>\n",
       "      <th>thal</th>\n",
       "      <th>target</th>\n",
       "      <th>age_(20, 30]</th>\n",
       "      <th>age_(30, 40]</th>\n",
       "      <th>age_(40, 50]</th>\n",
       "      <th>age_(50, 60]</th>\n",
       "      <th>...</th>\n",
       "      <th>age_(70, 80]</th>\n",
       "      <th>trestbps_(80, 120]</th>\n",
       "      <th>trestbps_(120, 129]</th>\n",
       "      <th>trestbps_(129, 139]</th>\n",
       "      <th>trestbps_(139, 140]</th>\n",
       "      <th>trestbps_(140, 180]</th>\n",
       "      <th>trestbps_(180, 200]</th>\n",
       "      <th>chol_(100, 200]</th>\n",
       "      <th>chol_(200, 239]</th>\n",
       "      <th>chol_(239, 575]</th>\n",
       "    </tr>\n",
       "  </thead>\n",
       "  <tbody>\n",
       "    <tr>\n",
       "      <th>count</th>\n",
       "      <td>303.000000</td>\n",
       "      <td>303.000000</td>\n",
       "      <td>303.000000</td>\n",
       "      <td>303.000000</td>\n",
       "      <td>303.000000</td>\n",
       "      <td>303.000000</td>\n",
       "      <td>303.000000</td>\n",
       "      <td>303.000000</td>\n",
       "      <td>303.000000</td>\n",
       "      <td>303.000000</td>\n",
       "      <td>...</td>\n",
       "      <td>303.000000</td>\n",
       "      <td>303.000000</td>\n",
       "      <td>303.000000</td>\n",
       "      <td>303.000000</td>\n",
       "      <td>303.000000</td>\n",
       "      <td>303.000000</td>\n",
       "      <td>303.000000</td>\n",
       "      <td>303.000000</td>\n",
       "      <td>303.000000</td>\n",
       "      <td>303.000000</td>\n",
       "    </tr>\n",
       "    <tr>\n",
       "      <th>mean</th>\n",
       "      <td>0.683168</td>\n",
       "      <td>0.322332</td>\n",
       "      <td>0.326733</td>\n",
       "      <td>0.182343</td>\n",
       "      <td>0.771177</td>\n",
       "      <td>0.544554</td>\n",
       "      <td>0.003300</td>\n",
       "      <td>0.059406</td>\n",
       "      <td>0.250825</td>\n",
       "      <td>0.425743</td>\n",
       "      <td>...</td>\n",
       "      <td>0.019802</td>\n",
       "      <td>0.320132</td>\n",
       "      <td>0.125413</td>\n",
       "      <td>0.234323</td>\n",
       "      <td>0.105611</td>\n",
       "      <td>0.207921</td>\n",
       "      <td>0.006601</td>\n",
       "      <td>0.168317</td>\n",
       "      <td>0.320132</td>\n",
       "      <td>0.511551</td>\n",
       "    </tr>\n",
       "    <tr>\n",
       "      <th>std</th>\n",
       "      <td>0.466011</td>\n",
       "      <td>0.344017</td>\n",
       "      <td>0.469794</td>\n",
       "      <td>0.255652</td>\n",
       "      <td>0.204092</td>\n",
       "      <td>0.498835</td>\n",
       "      <td>0.057448</td>\n",
       "      <td>0.236774</td>\n",
       "      <td>0.434205</td>\n",
       "      <td>0.495273</td>\n",
       "      <td>...</td>\n",
       "      <td>0.139550</td>\n",
       "      <td>0.467299</td>\n",
       "      <td>0.331734</td>\n",
       "      <td>0.424276</td>\n",
       "      <td>0.307847</td>\n",
       "      <td>0.406491</td>\n",
       "      <td>0.081110</td>\n",
       "      <td>0.374766</td>\n",
       "      <td>0.467299</td>\n",
       "      <td>0.500693</td>\n",
       "    </tr>\n",
       "    <tr>\n",
       "      <th>min</th>\n",
       "      <td>0.000000</td>\n",
       "      <td>0.000000</td>\n",
       "      <td>0.000000</td>\n",
       "      <td>0.000000</td>\n",
       "      <td>0.000000</td>\n",
       "      <td>0.000000</td>\n",
       "      <td>0.000000</td>\n",
       "      <td>0.000000</td>\n",
       "      <td>0.000000</td>\n",
       "      <td>0.000000</td>\n",
       "      <td>...</td>\n",
       "      <td>0.000000</td>\n",
       "      <td>0.000000</td>\n",
       "      <td>0.000000</td>\n",
       "      <td>0.000000</td>\n",
       "      <td>0.000000</td>\n",
       "      <td>0.000000</td>\n",
       "      <td>0.000000</td>\n",
       "      <td>0.000000</td>\n",
       "      <td>0.000000</td>\n",
       "      <td>0.000000</td>\n",
       "    </tr>\n",
       "    <tr>\n",
       "      <th>25%</th>\n",
       "      <td>0.000000</td>\n",
       "      <td>0.000000</td>\n",
       "      <td>0.000000</td>\n",
       "      <td>0.000000</td>\n",
       "      <td>0.666667</td>\n",
       "      <td>0.000000</td>\n",
       "      <td>0.000000</td>\n",
       "      <td>0.000000</td>\n",
       "      <td>0.000000</td>\n",
       "      <td>0.000000</td>\n",
       "      <td>...</td>\n",
       "      <td>0.000000</td>\n",
       "      <td>0.000000</td>\n",
       "      <td>0.000000</td>\n",
       "      <td>0.000000</td>\n",
       "      <td>0.000000</td>\n",
       "      <td>0.000000</td>\n",
       "      <td>0.000000</td>\n",
       "      <td>0.000000</td>\n",
       "      <td>0.000000</td>\n",
       "      <td>0.000000</td>\n",
       "    </tr>\n",
       "    <tr>\n",
       "      <th>50%</th>\n",
       "      <td>1.000000</td>\n",
       "      <td>0.333333</td>\n",
       "      <td>0.000000</td>\n",
       "      <td>0.000000</td>\n",
       "      <td>0.666667</td>\n",
       "      <td>1.000000</td>\n",
       "      <td>0.000000</td>\n",
       "      <td>0.000000</td>\n",
       "      <td>0.000000</td>\n",
       "      <td>0.000000</td>\n",
       "      <td>...</td>\n",
       "      <td>0.000000</td>\n",
       "      <td>0.000000</td>\n",
       "      <td>0.000000</td>\n",
       "      <td>0.000000</td>\n",
       "      <td>0.000000</td>\n",
       "      <td>0.000000</td>\n",
       "      <td>0.000000</td>\n",
       "      <td>0.000000</td>\n",
       "      <td>0.000000</td>\n",
       "      <td>1.000000</td>\n",
       "    </tr>\n",
       "    <tr>\n",
       "      <th>75%</th>\n",
       "      <td>1.000000</td>\n",
       "      <td>0.666667</td>\n",
       "      <td>1.000000</td>\n",
       "      <td>0.250000</td>\n",
       "      <td>1.000000</td>\n",
       "      <td>1.000000</td>\n",
       "      <td>0.000000</td>\n",
       "      <td>0.000000</td>\n",
       "      <td>0.500000</td>\n",
       "      <td>1.000000</td>\n",
       "      <td>...</td>\n",
       "      <td>0.000000</td>\n",
       "      <td>1.000000</td>\n",
       "      <td>0.000000</td>\n",
       "      <td>0.000000</td>\n",
       "      <td>0.000000</td>\n",
       "      <td>0.000000</td>\n",
       "      <td>0.000000</td>\n",
       "      <td>0.000000</td>\n",
       "      <td>1.000000</td>\n",
       "      <td>1.000000</td>\n",
       "    </tr>\n",
       "    <tr>\n",
       "      <th>max</th>\n",
       "      <td>1.000000</td>\n",
       "      <td>1.000000</td>\n",
       "      <td>1.000000</td>\n",
       "      <td>1.000000</td>\n",
       "      <td>1.000000</td>\n",
       "      <td>1.000000</td>\n",
       "      <td>1.000000</td>\n",
       "      <td>1.000000</td>\n",
       "      <td>1.000000</td>\n",
       "      <td>1.000000</td>\n",
       "      <td>...</td>\n",
       "      <td>1.000000</td>\n",
       "      <td>1.000000</td>\n",
       "      <td>1.000000</td>\n",
       "      <td>1.000000</td>\n",
       "      <td>1.000000</td>\n",
       "      <td>1.000000</td>\n",
       "      <td>1.000000</td>\n",
       "      <td>1.000000</td>\n",
       "      <td>1.000000</td>\n",
       "      <td>1.000000</td>\n",
       "    </tr>\n",
       "  </tbody>\n",
       "</table>\n",
       "<p>8 rows × 21 columns</p>\n",
       "</div>"
      ],
      "text/plain": [
       "              sex          cp       exang          ca        thal      target  \\\n",
       "count  303.000000  303.000000  303.000000  303.000000  303.000000  303.000000   \n",
       "mean     0.683168    0.322332    0.326733    0.182343    0.771177    0.544554   \n",
       "std      0.466011    0.344017    0.469794    0.255652    0.204092    0.498835   \n",
       "min      0.000000    0.000000    0.000000    0.000000    0.000000    0.000000   \n",
       "25%      0.000000    0.000000    0.000000    0.000000    0.666667    0.000000   \n",
       "50%      1.000000    0.333333    0.000000    0.000000    0.666667    1.000000   \n",
       "75%      1.000000    0.666667    1.000000    0.250000    1.000000    1.000000   \n",
       "max      1.000000    1.000000    1.000000    1.000000    1.000000    1.000000   \n",
       "\n",
       "       age_(20, 30]  age_(30, 40]  age_(40, 50]  age_(50, 60]  ...  \\\n",
       "count    303.000000    303.000000    303.000000    303.000000  ...   \n",
       "mean       0.003300      0.059406      0.250825      0.425743  ...   \n",
       "std        0.057448      0.236774      0.434205      0.495273  ...   \n",
       "min        0.000000      0.000000      0.000000      0.000000  ...   \n",
       "25%        0.000000      0.000000      0.000000      0.000000  ...   \n",
       "50%        0.000000      0.000000      0.000000      0.000000  ...   \n",
       "75%        0.000000      0.000000      0.500000      1.000000  ...   \n",
       "max        1.000000      1.000000      1.000000      1.000000  ...   \n",
       "\n",
       "       age_(70, 80]  trestbps_(80, 120]  trestbps_(120, 129]  \\\n",
       "count    303.000000          303.000000           303.000000   \n",
       "mean       0.019802            0.320132             0.125413   \n",
       "std        0.139550            0.467299             0.331734   \n",
       "min        0.000000            0.000000             0.000000   \n",
       "25%        0.000000            0.000000             0.000000   \n",
       "50%        0.000000            0.000000             0.000000   \n",
       "75%        0.000000            1.000000             0.000000   \n",
       "max        1.000000            1.000000             1.000000   \n",
       "\n",
       "       trestbps_(129, 139]  trestbps_(139, 140]  trestbps_(140, 180]  \\\n",
       "count           303.000000           303.000000           303.000000   \n",
       "mean              0.234323             0.105611             0.207921   \n",
       "std               0.424276             0.307847             0.406491   \n",
       "min               0.000000             0.000000             0.000000   \n",
       "25%               0.000000             0.000000             0.000000   \n",
       "50%               0.000000             0.000000             0.000000   \n",
       "75%               0.000000             0.000000             0.000000   \n",
       "max               1.000000             1.000000             1.000000   \n",
       "\n",
       "       trestbps_(180, 200]  chol_(100, 200]  chol_(200, 239]  chol_(239, 575]  \n",
       "count           303.000000       303.000000       303.000000       303.000000  \n",
       "mean              0.006601         0.168317         0.320132         0.511551  \n",
       "std               0.081110         0.374766         0.467299         0.500693  \n",
       "min               0.000000         0.000000         0.000000         0.000000  \n",
       "25%               0.000000         0.000000         0.000000         0.000000  \n",
       "50%               0.000000         0.000000         0.000000         1.000000  \n",
       "75%               0.000000         0.000000         1.000000         1.000000  \n",
       "max               1.000000         1.000000         1.000000         1.000000  \n",
       "\n",
       "[8 rows x 21 columns]"
      ]
     },
     "execution_count": 30,
     "metadata": {},
     "output_type": "execute_result"
    }
   ],
   "source": [
    "dfFull.describe()"
   ]
  },
  {
   "cell_type": "markdown",
   "metadata": {},
   "source": [
    "## Machine Learning"
   ]
  },
  {
   "cell_type": "code",
   "execution_count": 31,
   "metadata": {},
   "outputs": [],
   "source": [
    "#features\n",
    "X = dfFull[['sex','cp','exang','ca','thal','age_(20, 30]','age_(30, 40]','age_(40, 50]','age_(50, 60]','age_(60, 70]','age_(70, 80]','trestbps_(80, 120]','trestbps_(120, 129]','trestbps_(129, 139]','trestbps_(139, 140]','trestbps_(140, 180]','trestbps_(180, 200]','chol_(100, 200]','chol_(200, 239]','chol_(239, 575]']]\n",
    "y = dfFull['target']"
   ]
  },
  {
   "cell_type": "markdown",
   "metadata": {},
   "source": [
    "utilized a standard 60,20,20 split for training, validation, testing"
   ]
  },
  {
   "cell_type": "code",
   "execution_count": 32,
   "metadata": {},
   "outputs": [],
   "source": [
    "lenTrain, lenVal = 182, 60"
   ]
  },
  {
   "cell_type": "code",
   "execution_count": 33,
   "metadata": {},
   "outputs": [],
   "source": [
    "X_train, X_val, X_test = X[:lenTrain], X[lenTrain:(lenTrain+lenVal)], X[(lenTrain+lenVal):]\n",
    "y_train, y_val, y_test = y[:lenTrain], y[lenTrain:(lenTrain+lenVal)], y[(lenTrain+lenVal):]"
   ]
  },
  {
   "cell_type": "code",
   "execution_count": 34,
   "metadata": {},
   "outputs": [
    {
     "name": "stdout",
     "output_type": "stream",
     "text": [
      "SGDClassifier(alpha=0.0001, average=False, class_weight=None,\n",
      "              early_stopping=False, epsilon=0.1, eta0=0.0, fit_intercept=True,\n",
      "              l1_ratio=0.15, learning_rate='optimal', loss='log', max_iter=1000,\n",
      "              n_iter_no_change=5, n_jobs=None, penalty='l2', power_t=0.5,\n",
      "              random_state=None, shuffle=True, tol=0.001,\n",
      "              validation_fraction=0.1, verbose=0, warm_start=False)\n",
      "0.8558752052545155\n"
     ]
    }
   ],
   "source": [
    "#SGDClassifier\n",
    "gridSGD = GridSearchCV(\n",
    "    estimator=SGDClassifier(), \n",
    "    param_grid={'loss':['hinge','log','modified_huber','squared_hinge','perceptron']},\n",
    "    scoring=\"precision\", cv=5)\n",
    "gridSGD.fit(X_train, y_train)\n",
    "print (gridSGD.best_estimator_)\n",
    "print (gridSGD.best_score_)"
   ]
  },
  {
   "cell_type": "code",
   "execution_count": 35,
   "metadata": {},
   "outputs": [
    {
     "name": "stdout",
     "output_type": "stream",
     "text": [
      "GaussianNB(priors=None, var_smoothing=1e-09)\n",
      "0.5329923273657289\n"
     ]
    },
    {
     "name": "stderr",
     "output_type": "stream",
     "text": [
      "C:\\Users\\dcheu\\Anaconda3\\envs\\PythonGPU\\lib\\site-packages\\sklearn\\metrics\\_classification.py:1268: UndefinedMetricWarning: Precision is ill-defined and being set to 0.0 due to no predicted samples. Use `zero_division` parameter to control this behavior.\n",
      "  _warn_prf(average, modifier, msg_start, len(result))\n",
      "C:\\Users\\dcheu\\Anaconda3\\envs\\PythonGPU\\lib\\site-packages\\sklearn\\metrics\\_classification.py:1268: UndefinedMetricWarning: Precision is ill-defined and being set to 0.0 due to no predicted samples. Use `zero_division` parameter to control this behavior.\n",
      "  _warn_prf(average, modifier, msg_start, len(result))\n"
     ]
    }
   ],
   "source": [
    "#GaussianNB\n",
    "gridGNB = GridSearchCV(\n",
    "    estimator=GaussianNB(), \n",
    "    param_grid={},\n",
    "    scoring=\"precision\", cv=5)\n",
    "gridGNB.fit(X_train, y_train)\n",
    "print (gridGNB.best_estimator_)\n",
    "print (gridGNB.best_score_)"
   ]
  },
  {
   "cell_type": "code",
   "execution_count": 36,
   "metadata": {},
   "outputs": [
    {
     "name": "stdout",
     "output_type": "stream",
     "text": [
      "KNeighborsClassifier(algorithm='ball_tree', leaf_size=30, metric='minkowski',\n",
      "                     metric_params=None, n_jobs=None, n_neighbors=30, p=2,\n",
      "                     weights='distance')\n",
      "0.7155526277265407\n"
     ]
    }
   ],
   "source": [
    "#KNeighborsClassifier\n",
    "gridKNN = GridSearchCV(\n",
    "    estimator=KNeighborsClassifier(), \n",
    "    param_grid={'n_neighbors': [3, 5, 7, 10, 15, 30], \"weights\": [\"distance\", \"uniform\"], 'algorithm':['ball_tree','kd_tree','brute','auto']},\n",
    "    scoring=\"precision\", cv=5)\n",
    "gridKNN.fit(X_train, y_train)\n",
    "print (gridKNN.best_estimator_)\n",
    "print (gridKNN.best_score_)"
   ]
  },
  {
   "cell_type": "code",
   "execution_count": 37,
   "metadata": {},
   "outputs": [
    {
     "name": "stdout",
     "output_type": "stream",
     "text": [
      "SVC(C=1.0, break_ties=False, cache_size=200, class_weight=None, coef0=0.0,\n",
      "    decision_function_shape='ovr', degree=3, gamma='scale', kernel='rbf',\n",
      "    max_iter=-1, probability=False, random_state=None, shrinking=True,\n",
      "    tol=0.001, verbose=False)\n",
      "0.8033888888888889\n"
     ]
    }
   ],
   "source": [
    "#SVC\n",
    "gridSVC = GridSearchCV(\n",
    "    estimator=SVC(), \n",
    "    param_grid={},\n",
    "    scoring=\"precision\", cv=5)\n",
    "gridSVC.fit(X_train, y_train)\n",
    "print (gridSVC.best_estimator_)\n",
    "print (gridSVC.best_score_)"
   ]
  },
  {
   "cell_type": "code",
   "execution_count": 38,
   "metadata": {},
   "outputs": [
    {
     "name": "stdout",
     "output_type": "stream",
     "text": [
      "DecisionTreeClassifier(ccp_alpha=0.0, class_weight=None, criterion='entropy',\n",
      "                       max_depth=None, max_features=None, max_leaf_nodes=None,\n",
      "                       min_impurity_decrease=0.0, min_impurity_split=None,\n",
      "                       min_samples_leaf=1, min_samples_split=2,\n",
      "                       min_weight_fraction_leaf=0.0, presort='deprecated',\n",
      "                       random_state=42, splitter='random')\n",
      "0.8513538748832866\n"
     ]
    }
   ],
   "source": [
    "#DecisionTreeClassifier\n",
    "gridTree = GridSearchCV(\n",
    "    estimator=DecisionTreeClassifier(random_state=42), \n",
    "    param_grid={'criterion':['gini','entropy'],'splitter':['best','random'],'max_depth': [None,3,5,10,15,20]}, \n",
    "    scoring=\"precision\", cv=5)\n",
    "gridTree.fit(X_train, y_train)\n",
    "print(gridTree.best_estimator_)\n",
    "print(gridTree.best_score_)"
   ]
  },
  {
   "cell_type": "code",
   "execution_count": 39,
   "metadata": {
    "scrolled": true
   },
   "outputs": [
    {
     "name": "stdout",
     "output_type": "stream",
     "text": [
      "RandomForestClassifier(bootstrap=True, ccp_alpha=0.0, class_weight=None,\n",
      "                       criterion='gini', max_depth=3, max_features='auto',\n",
      "                       max_leaf_nodes=None, max_samples=None,\n",
      "                       min_impurity_decrease=0.0, min_impurity_split=None,\n",
      "                       min_samples_leaf=1, min_samples_split=2,\n",
      "                       min_weight_fraction_leaf=0.0, n_estimators=100,\n",
      "                       n_jobs=None, oob_score=False, random_state=42, verbose=0,\n",
      "                       warm_start=False)\n",
      "0.8763492063492064\n"
     ]
    }
   ],
   "source": [
    "#RandomForestClassifier\n",
    "gridForest = GridSearchCV(\n",
    "    estimator= RandomForestClassifier(random_state=42), \n",
    "    param_grid={'criterion':['gini','entropy'],'max_depth': [None,3,5,10,15,20]}, \n",
    "    scoring=\"precision\", cv=5)\n",
    "gridForest.fit(X_train, y_train)\n",
    "print(gridForest.best_estimator_)\n",
    "print(gridForest.best_score_)"
   ]
  },
  {
   "cell_type": "code",
   "execution_count": 40,
   "metadata": {},
   "outputs": [
    {
     "name": "stdout",
     "output_type": "stream",
     "text": [
      "AdaBoostClassifier(algorithm='SAMME', base_estimator=None, learning_rate=0.5,\n",
      "                   n_estimators=10, random_state=42)\n",
      "0.8807936507936509\n"
     ]
    }
   ],
   "source": [
    "#AdaBoostClassifier\n",
    "adaParams = {\"base_estimator\":[None,\n",
    "    DecisionTreeClassifier(max_depth=5,criterion='gini',splitter='best'),\n",
    "    DecisionTreeClassifier(max_depth=10,criterion='gini',splitter='best'),\n",
    "    DecisionTreeClassifier(max_depth=15,criterion='gini',splitter='best'),\n",
    "    DecisionTreeClassifier(max_depth=5,criterion='entropy',splitter='best'),\n",
    "    DecisionTreeClassifier(max_depth=10,criterion='entropy',splitter='best'),\n",
    "    DecisionTreeClassifier(max_depth=15,criterion='entropy',splitter='best'),\n",
    "    DecisionTreeClassifier(max_depth=5,criterion='gini',splitter='random'),\n",
    "    DecisionTreeClassifier(max_depth=10,criterion='gini',splitter='random'),\n",
    "    DecisionTreeClassifier(max_depth=15,criterion='gini',splitter='random'),\n",
    "    DecisionTreeClassifier(max_depth=5,criterion='entropy',splitter='random'),\n",
    "    DecisionTreeClassifier(max_depth=10,criterion='entropy',splitter='random'),\n",
    "    DecisionTreeClassifier(max_depth=15,criterion='entropy',splitter='random')],\n",
    "    \"n_estimators\":[5, 10, 30, 50, 60],\"learning_rate\":[.5, 1.0, 1.5],'algorithm':['SAMME', 'SAMME.R']}\n",
    "\n",
    "gridBoost = GridSearchCV(\n",
    "    estimator= AdaBoostClassifier(random_state=42), \n",
    "    param_grid=adaParams, \n",
    "    scoring=\"precision\", cv=5)\n",
    "gridBoost.fit(X_train, y_train)\n",
    "print(gridBoost.best_estimator_)\n",
    "print(gridBoost.best_score_)"
   ]
  },
  {
   "cell_type": "code",
   "execution_count": 41,
   "metadata": {},
   "outputs": [
    {
     "name": "stdout",
     "output_type": "stream",
     "text": [
      "BaggingClassifier(base_estimator=DecisionTreeClassifier(ccp_alpha=0.0,\n",
      "                                                        class_weight=None,\n",
      "                                                        criterion='gini',\n",
      "                                                        max_depth=5,\n",
      "                                                        max_features=None,\n",
      "                                                        max_leaf_nodes=None,\n",
      "                                                        min_impurity_decrease=0.0,\n",
      "                                                        min_impurity_split=None,\n",
      "                                                        min_samples_leaf=1,\n",
      "                                                        min_samples_split=2,\n",
      "                                                        min_weight_fraction_leaf=0.0,\n",
      "                                                        presort='deprecated',\n",
      "                                                        random_state=None,\n",
      "                                                        splitter='best'),\n",
      "                  bootstrap=True, bootstrap_features=False, max_features=1.0,\n",
      "                  max_samples=1.0, n_estimators=5, n_jobs=None, oob_score=False,\n",
      "                  random_state=42, verbose=0, warm_start=False)\n",
      "0.8421455938697319\n"
     ]
    }
   ],
   "source": [
    "#BaggingClassifier\n",
    "bagParams = {\"base_estimator\":[None, \n",
    "    KNeighborsClassifier(n_neighbors=5, weights='uniform'), \n",
    "    KNeighborsClassifier(n_neighbors=10, weights='uniform'), \n",
    "    KNeighborsClassifier(n_neighbors=12, weights='uniform'), \n",
    "    KNeighborsClassifier(n_neighbors=15, weights='uniform'), \n",
    "    KNeighborsClassifier(n_neighbors=5, weights='distance'), \n",
    "    KNeighborsClassifier(n_neighbors=10, weights='distance'), \n",
    "    KNeighborsClassifier(n_neighbors=12, weights='distance'), \n",
    "    KNeighborsClassifier(n_neighbors=15, weights='distance'), \n",
    "    DecisionTreeClassifier(max_depth=5,criterion='gini',splitter='best'),\n",
    "    DecisionTreeClassifier(max_depth=10,criterion='gini',splitter='best'),\n",
    "    DecisionTreeClassifier(max_depth=15,criterion='gini',splitter='best'),\n",
    "    DecisionTreeClassifier(max_depth=5,criterion='entropy',splitter='best'),\n",
    "    DecisionTreeClassifier(max_depth=10,criterion='entropy',splitter='best'),\n",
    "    DecisionTreeClassifier(max_depth=15,criterion='entropy',splitter='best'),\n",
    "    DecisionTreeClassifier(max_depth=5,criterion='gini',splitter='random'),\n",
    "    DecisionTreeClassifier(max_depth=10,criterion='gini',splitter='random'),\n",
    "    DecisionTreeClassifier(max_depth=15,criterion='gini',splitter='random'),\n",
    "    DecisionTreeClassifier(max_depth=5,criterion='entropy',splitter='random'),\n",
    "    DecisionTreeClassifier(max_depth=10,criterion='entropy',splitter='random'),\n",
    "    DecisionTreeClassifier(max_depth=15,criterion='entropy',splitter='random')],\n",
    "    \"n_estimators\":[5, 10, 30, 50, 60]}\n",
    "\n",
    "gridBag = GridSearchCV(\n",
    "    estimator=BaggingClassifier(random_state=42), \n",
    "    param_grid=bagParams, \n",
    "    scoring=\"precision\", cv=3)\n",
    "gridBag.fit(X_train, y_train)\n",
    "print(gridBag.best_estimator_)\n",
    "print(gridBag.best_score_)"
   ]
  },
  {
   "cell_type": "markdown",
   "metadata": {},
   "source": [
    "best algorithms are SGDClassifier, RandomForestClassifier, AdaBoostClassifier"
   ]
  },
  {
   "cell_type": "code",
   "execution_count": 42,
   "metadata": {},
   "outputs": [
    {
     "name": "stdout",
     "output_type": "stream",
     "text": [
      "0.68\n",
      "0.7222222222222222\n",
      "0.7435897435897436\n"
     ]
    }
   ],
   "source": [
    "#validation test\n",
    "SGDval = SGDClassifier()\n",
    "SGDval.fit(X_train, y_train)\n",
    "y_SGDval = SGDval.predict(X_val)\n",
    "score_SGDval= precision_score(y_val,y_SGDval)\n",
    "print(score_SGDval)\n",
    "\n",
    "ForestVal = RandomForestClassifier()\n",
    "ForestVal.fit(X_train, y_train)\n",
    "y_ForestVal = ForestVal.predict(X_val)\n",
    "score_ForestVal= precision_score(y_val,y_ForestVal)\n",
    "print(score_ForestVal)\n",
    "\n",
    "adaVal = AdaBoostClassifier()\n",
    "adaVal.fit(X_train, y_train)\n",
    "y_adaVal = adaVal.predict(X_val)\n",
    "score_adaVal = precision_score(y_val,y_adaVal)\n",
    "print(score_adaVal)"
   ]
  },
  {
   "cell_type": "code",
   "execution_count": 43,
   "metadata": {},
   "outputs": [
    {
     "name": "stdout",
     "output_type": "stream",
     "text": [
      "0.71875\n"
     ]
    }
   ],
   "source": [
    "#SGDClassifier Test w best algo\n",
    "sgd_best = SGDClassifier(alpha=0.0001, average=False, class_weight=None,\n",
    "              early_stopping=False, epsilon=0.1, eta0=0.0, fit_intercept=True,\n",
    "              l1_ratio=0.15, learning_rate='optimal', loss='log', max_iter=1000,\n",
    "              n_iter_no_change=5, n_jobs=None, penalty='l2', power_t=0.5,\n",
    "              random_state=None, shuffle=True, tol=0.001,\n",
    "              validation_fraction=0.1, verbose=0, warm_start=False)\n",
    "sgd_best.fit(X_train, y_train)\n",
    "y_sgdTest = sgd_best.predict(X_test)\n",
    "score_sgdTest = precision_score(y_test, y_sgdTest)\n",
    "print(score_sgdTest)"
   ]
  },
  {
   "cell_type": "code",
   "execution_count": 44,
   "metadata": {},
   "outputs": [
    {
     "name": "stdout",
     "output_type": "stream",
     "text": [
      "0.7575757575757576\n"
     ]
    }
   ],
   "source": [
    "#RandomForestClassifier Test w best algo\n",
    "Forest_best = RandomForestClassifier(bootstrap=True, ccp_alpha=0.0, class_weight=None,\n",
    "                       criterion='entropy', max_depth=5, max_features='auto',\n",
    "                       max_leaf_nodes=None, max_samples=None,\n",
    "                       min_impurity_decrease=0.0, min_impurity_split=None,\n",
    "                       min_samples_leaf=1, min_samples_split=2,\n",
    "                       min_weight_fraction_leaf=0.0, n_estimators=100,\n",
    "                       n_jobs=None, oob_score=False, random_state=42, verbose=0,\n",
    "                       warm_start=False)\n",
    "Forest_best.fit(X_train, y_train)\n",
    "y_ForestTest = Forest_best.predict(X_test)\n",
    "score_ForestTest = precision_score(y_test, y_ForestTest)\n",
    "print(score_ForestTest)"
   ]
  },
  {
   "cell_type": "code",
   "execution_count": 45,
   "metadata": {},
   "outputs": [
    {
     "name": "stdout",
     "output_type": "stream",
     "text": [
      "0.75\n"
     ]
    }
   ],
   "source": [
    "#AdaBoostClassifier Test w best algo\n",
    "ada_best = AdaBoostClassifier(algorithm='SAMME.R', base_estimator=None, learning_rate=1.0,\n",
    "                   n_estimators=5, random_state=42)\n",
    "ada_best.fit(X_train, y_train)\n",
    "y_adaTest = ada_best.predict(X_test)\n",
    "score_adaTest = precision_score(y_test, y_adaTest)\n",
    "print(score_adaTest)"
   ]
  },
  {
   "cell_type": "markdown",
   "metadata": {},
   "source": [
    "## Result Analysis"
   ]
  },
  {
   "cell_type": "markdown",
   "metadata": {},
   "source": [
    "Testing the best algorithms on the test data, a range of .7185-.7576 precision is achieved. Although this is very precise, reliance on this model for diagnosis of heart disease is not recommended. This model would better be used for indication of heart disease and could be used to aid a medical proffesional in diagnosis. To further increase performance of this model, a dataset with more data points and a better understanding of medicine would be needed. More data points (about 2000-3000) would work best in this setting as classical machine learning algorithms perform best with data in the indicated range. A better understanding of medicine would also improve results, perhaps even without a bigger dataset. For example, in data exploration and feature engineering, features were removed based on visual assumptions from graphs. With a better understanding of medicine, features and their correlations with heart disease could be better explored and implemented in the model."
   ]
  }
 ],
 "metadata": {
  "kernelspec": {
   "display_name": "Python 3",
   "language": "python",
   "name": "python3"
  },
  "language_info": {
   "codemirror_mode": {
    "name": "ipython",
    "version": 3
   },
   "file_extension": ".py",
   "mimetype": "text/x-python",
   "name": "python",
   "nbconvert_exporter": "python",
   "pygments_lexer": "ipython3",
   "version": "3.7.5"
  }
 },
 "nbformat": 4,
 "nbformat_minor": 2
}
